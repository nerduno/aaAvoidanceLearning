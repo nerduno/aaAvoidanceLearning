{
 "metadata": {
  "name": "",
  "signature": "sha256:1ed5383ca7fa04d0b710f4f29a8e26e585e3ae61f7b4f185bcd76be8e6a0e8e7"
 },
 "nbformat": 3,
 "nbformat_minor": 0,
 "worksheets": [
  {
   "cells": [
    {
     "cell_type": "markdown",
     "metadata": {},
     "source": [
      "The following cell specifies the relevant data to be analyzed.  For each dataset, you need to supply the date, the fish number, and a threshold specifing is the number of pixel that must be different to indicate a movement in the head-fixed data (depending on lighting, fish size, etc.).  data['e'] should contain shocked fish, and 'c' control fish.\n",
      "\n",
      "Be sure to re-execute the cell using the play button if you modify the cell."
     ]
    },
    {
     "cell_type": "code",
     "collapsed": false,
     "input": [
      "%matplotlib inline"
     ],
     "language": "python",
     "metadata": {},
     "outputs": [],
     "prompt_number": 1
    },
    {
     "cell_type": "code",
     "collapsed": false,
     "input": [
      "#DEFINE DATA SET\n",
      "data = {}\n",
      "\n",
      "data['e'] =         [\n",
      "                     {'date':'20140319','fnum':1137, 'manThres':75},\n",
      "                     {'date':'20140319','fnum':1138, 'manThres':75},\n",
      "                     {'date':'20140319','fnum':1139, 'manThres':20},\n",
      "                     {'date':'20140319','fnum':1140, 'manThres':75},\n",
      "                     {'date':'20140319','fnum':1141, 'manThres':75},\n",
      "                     {'date':'20140319','fnum':1142, 'manThres':75},\n",
      "                     {'date':'20140320','fnum':1157, 'manThres':50},\n",
      "                     {'date':'20140320','fnum':1158, 'manThres':40}, \n",
      "                     {'date':'20140320','fnum':1159, 'manThres':40},\n",
      "                     {'date':'20140320','fnum':1160, 'manThres':75},\n",
      "                     #{'date':'20140325','fnum':1163, 'manThres':50}, #start vel <1\n",
      "                     #{'date':'20140326','fnum':1171, 'manThres':20}, #no video?\n",
      "                     {'date':'20140326','fnum':1173, 'manThres':40},\n",
      "                     {'date':'20140326','fnum':1175, 'manThres':50},\n",
      "                     {'date':'20140326','fnum':1177, 'manThres':20},\n",
      "                     #{'date':'20140326','fnum':1189, 'manThres':50}, #start vel <1\n",
      "                     {'date':'20140401','fnum':1201, 'manThres':50},\n",
      "                     {'date':'20140401','fnum':1201, 'manThres':50},\n",
      "                     {'date':'20140401','fnum':1203, 'manThres':50},\n",
      "                     {'date':'20140401','fnum':1204, 'manThres':30},\n",
      "                     #{'date':'20140401','fnum':1205, 'manThres':50}, #start vel < 1\n",
      "                     {'date':'20140401','fnum':1206, 'manThres':55},\n",
      "                     {'date':'20140401','fnum':1213, 'manThres':50},\n",
      "                     {'date':'20140401','fnum':1214, 'manThres':50},\n",
      "                    \n",
      "                     ]\n",
      "\n",
      "data['c'] =         [   \n",
      "                     {'date':'20140320','fnum':1148, 'manThres':50},\n",
      "                     {'date':'20140320','fnum':1149, 'manThres':50},\n",
      "                     {'date':'20140320','fnum':1150, 'manThres':30},\n",
      "                     {'date':'20140320','fnum':1151, 'manThres':75},\n",
      "                     {'date':'20140320','fnum':1152, 'manThres':20},\n",
      "                     {'date':'20140320','fnum':1153, 'manThres':30},\n",
      "                     {'date':'20140320','fnum':1154, 'manThres':75},\n",
      "                     {'date':'20140320','fnum':1155, 'manThres':75},\n",
      "                     {'date':'20140320','fnum':1156, 'manThres':75},\n",
      "                     #{'date':'20140325','fnum':1161, 'manThres':50}, #start vel < 1\n",
      "                     {'date':'20140325','fnum':1167, 'manThres':50},\n",
      "                     {'date':'20140325','fnum':1169, 'manThres':50},\n",
      "                     {'date':'20140326','fnum':1179, 'manThres':75},\n",
      "                     {'date':'20140326','fnum':1181, 'manThres':50},\n",
      "                     {'date':'20140326','fnum':1183, 'manThres':50},\n",
      "                     {'date':'20140326','fnum':1185, 'manThres':50},\n",
      "                     {'date':'20140401','fnum':1207, 'manThres':30},\n",
      "                     {'date':'20140401','fnum':1208, 'manThres':30},\n",
      "                     {'date':'20140401','fnum':1209, 'manThres':50},\n",
      "                     {'date':'20140401','fnum':1210, 'manThres':50},\n",
      "                     {'date':'20140401','fnum':1211, 'manThres':50},\n",
      "                     {'date':'20140401','fnum':1212, 'manThres':30},\n",
      "                     ]\n",
      "\n",
      "imgdata = {}\n",
      "imgdata['e'] = [  \n",
      "                #{'date':'20140421','fnum':1232, 'imgmoverate':0.97}, #p10 (port 1233): log.tailCamFrames(107787) has 4 gaps, and movie(99288) 181:288are dark.\n",
      "                {'date':'20140422','fnum':1239, 'vAvgMoveRate':0.97},\n",
      "                #{'date':'20140422','fnum':1240, 'vAvgMoveRate':0.09} #18.2 second gap in log.tailCamFrames\n",
      "               ]\n",
      "imgdata['c'] = [   \n",
      "                #{'date':'20140421','fnum':1234, 'vAvgMoveRate':0.22}, #log file missing tailframe times.\n",
      "                {'date':'20140422','fnum':1238, 'vAvgMoveRate':0.28}\n",
      "               ]\n",
      "print 'Dataset chosen'"
     ],
     "language": "python",
     "metadata": {},
     "outputs": [
      {
       "output_type": "stream",
       "stream": "stdout",
       "text": [
        "Dataset chosen\n"
       ]
      }
     ],
     "prompt_number": 63
    },
    {
     "cell_type": "code",
     "collapsed": false,
     "input": [
      "#DEFINE DATA SET\n",
      "data = {}\n",
      "\n",
      "data['e'] =         [\n",
      "                     #{'date':'20140319','fnum':1137, 'manThres':75},\n",
      "                     #{'date':'20140319','fnum':1138, 'manThres':75},\n",
      "                     #{'date':'20140319','fnum':1139, 'manThres':20},\n",
      "                     #{'date':'20140319','fnum':1140, 'manThres':75},\n",
      "                     #{'date':'20140319','fnum':1141, 'manThres':75},\n",
      "                     #{'date':'20140319','fnum':1142, 'manThres':75},\n",
      "                     #{'date':'20140320','fnum':1157, 'manThres':50},\n",
      "                     #{'date':'20140320','fnum':1158, 'manThres':40}, \n",
      "                     #{'date':'20140320','fnum':1159, 'manThres':40},\n",
      "                     #{'date':'20140320','fnum':1160, 'manThres':75},\n",
      "                     {'date':'20140325','fnum':1163, 'manThres':50},\n",
      "                     #{'date':'20140326','fnum':1171, 'manThres':20}, #no video?\n",
      "                     {'date':'20140326','fnum':1173, 'manThres':40},\n",
      "                     {'date':'20140326','fnum':1175, 'manThres':50},\n",
      "                     {'date':'20140326','fnum':1177, 'manThres':20},\n",
      "                     {'date':'20140326','fnum':1189, 'manThres':50}, \n",
      "                     ]\n",
      "\n",
      "data['c'] =         [   \n",
      "                     #{'date':'20140320','fnum':1148, 'manThres':50},\n",
      "                     #{'date':'20140320','fnum':1149, 'manThres':50},\n",
      "                     #{'date':'20140320','fnum':1150, 'manThres':30},\n",
      "                     #{'date':'20140320','fnum':1151, 'manThres':75},\n",
      "                     #{'date':'20140320','fnum':1152, 'manThres':20},\n",
      "                     #{'date':'20140320','fnum':1153, 'manThres':30},\n",
      "                     #{'date':'20140320','fnum':1154, 'manThres':75},\n",
      "                     #{'date':'20140320','fnum':1155, 'manThres':75},\n",
      "                     #{'date':'20140320','fnum':1156, 'manThres':75},\n",
      "                     {'date':'20140325','fnum':1161, 'manThres':50},\n",
      "                     {'date':'20140325','fnum':1167, 'manThres':50},\n",
      "                     {'date':'20140325','fnum':1169, 'manThres':50},\n",
      "                     {'date':'20140326','fnum':1179, 'manThres':75},\n",
      "                     {'date':'20140326','fnum':1181, 'manThres':50},\n",
      "                     {'date':'20140326','fnum':1183, 'manThres':50},\n",
      "                     {'date':'20140326','fnum':1185, 'manThres':50},\n",
      "                     ]\n",
      "print 'Dataset chosen'"
     ],
     "language": "python",
     "metadata": {},
     "outputs": [
      {
       "output_type": "stream",
       "stream": "stdout",
       "text": [
        "Dataset chosen\n"
       ]
      }
     ],
     "prompt_number": 21
    },
    {
     "cell_type": "markdown",
     "metadata": {},
     "source": [
      "The following cell loads  the data specified in the first cell (both free swimming and head fixed data)."
     ]
    },
    {
     "cell_type": "code",
     "collapsed": false,
     "input": [
      "#LOAD BOTH THE FREE-SWIMMING AND HEAD-FIXED DATA.\n",
      "%cd /Code/projects/fishTrax/code/analysis/\n",
      "import ArenaBehaviorAnalysis as aba\n",
      "from scipy.io.matlab import loadmat\n",
      "prefix = '/Users/andalman';\n",
      "\n",
      "for cohort in ['e','c']:\n",
      "    for nFish in range(len(data[cohort])):\n",
      "        date = data[cohort][nFish]['date']\n",
      "        fnum = data[cohort][nFish]['fnum']\n",
      "        data[cohort][nFish]['moviename'] = '%s/Dropbox/Pisces Data/FishVR/%s/%d_motion.avi'%(prefix, date, fnum)\n",
      "        data[cohort][nFish]['vr'] = loadmat('%s/Dropbox/Pisces Data/FishVR/%s/%d.mat'%(prefix, date, fnum))\n",
      "        data[cohort][nFish]['free'] = aba.loadDataSmart(date[:4]+'-'+date[4:6]+'-'+date[6:], fnum, bAuto=True)[0]\n",
      "\n",
      "    for nFish in xrange(len(imgdata[cohort])):\n",
      "        date = imgdata[cohort][nFish]['date']\n",
      "        fnum = imgdata[cohort][nFish]['fnum']\n",
      "        #data[cohort][nFish]['moviename'] = \n",
      "        #data[cohort][nFish]['vr'] = \n",
      "        imgdata[cohort][nFish]['free'] = aba.loadDataSmart(date[:4]+'-'+date[4:6]+'-'+date[6:], fnum, bAuto=True)[0]\n",
      "\n",
      "print 'Dataset loaded'\n"
     ],
     "language": "python",
     "metadata": {},
     "outputs": [
      {
       "output_type": "stream",
       "stream": "stdout",
       "text": [
        "/Users/andalman/Documents/Code/projects/fishTrax/code/analysis\n",
        "\n",
        "Search string: /Users/andalman/Dropbox/ConchisData/2014-03-19/f01137/f01137*.json"
       ]
      },
      {
       "output_type": "stream",
       "stream": "stdout",
       "text": [
        "\n",
        "Ignoring arena_mm.  Using tankSize_mm field."
       ]
      },
      {
       "output_type": "stream",
       "stream": "stdout",
       "text": [
        "\n",
        "\n",
        "Search string: /Users/andalman/Dropbox/ConchisData/2014-03-19/f01138/f01138*.json"
       ]
      },
      {
       "output_type": "stream",
       "stream": "stdout",
       "text": [
        "\n",
        "Ignoring arena_mm.  Using tankSize_mm field."
       ]
      },
      {
       "output_type": "stream",
       "stream": "stdout",
       "text": [
        "\n",
        "\n",
        "Search string: /Users/andalman/Dropbox/ConchisData/2014-03-19/f01139/f01139*.json"
       ]
      },
      {
       "output_type": "stream",
       "stream": "stdout",
       "text": [
        "\n",
        "Ignoring arena_mm.  Using tankSize_mm field."
       ]
      },
      {
       "output_type": "stream",
       "stream": "stdout",
       "text": [
        "\n",
        "\n",
        "Search string: /Users/andalman/Dropbox/ConchisData/2014-03-19/f01140/f01140*.json"
       ]
      },
      {
       "output_type": "stream",
       "stream": "stdout",
       "text": [
        "\n",
        "Ignoring arena_mm.  Using tankSize_mm field."
       ]
      },
      {
       "output_type": "stream",
       "stream": "stdout",
       "text": [
        "\n",
        "\n",
        "Search string: /Users/andalman/Dropbox/ConchisData/2014-03-19/f01141/f01141*.json"
       ]
      },
      {
       "output_type": "stream",
       "stream": "stdout",
       "text": [
        "\n",
        "Ignoring arena_mm.  Using tankSize_mm field."
       ]
      },
      {
       "output_type": "stream",
       "stream": "stdout",
       "text": [
        "\n",
        "\n",
        "Search string: /Users/andalman/Dropbox/ConchisData/2014-03-19/f01142/f01142*.json"
       ]
      },
      {
       "output_type": "stream",
       "stream": "stdout",
       "text": [
        "\n",
        "Ignoring arena_mm.  Using tankSize_mm field."
       ]
      },
      {
       "output_type": "stream",
       "stream": "stdout",
       "text": [
        "\n",
        "\n",
        "Search string: /Users/andalman/Dropbox/ConchisData/2014-03-20/f01157/f01157*.json"
       ]
      },
      {
       "output_type": "stream",
       "stream": "stdout",
       "text": [
        "\n",
        "Ignoring arena_mm.  Using tankSize_mm field."
       ]
      },
      {
       "output_type": "stream",
       "stream": "stdout",
       "text": [
        "\n",
        "\n",
        "Search string: /Users/andalman/Dropbox/ConchisData/2014-03-20/f01158/f01158*.json"
       ]
      },
      {
       "output_type": "stream",
       "stream": "stdout",
       "text": [
        "\n",
        "Ignoring arena_mm.  Using tankSize_mm field."
       ]
      },
      {
       "output_type": "stream",
       "stream": "stdout",
       "text": [
        "\n",
        "\n",
        "Search string: /Users/andalman/Dropbox/ConchisData/2014-03-20/f01159/f01159*.json"
       ]
      },
      {
       "output_type": "stream",
       "stream": "stdout",
       "text": [
        "\n",
        "Ignoring arena_mm.  Using tankSize_mm field."
       ]
      },
      {
       "output_type": "stream",
       "stream": "stdout",
       "text": [
        "\n",
        "\n",
        "Search string: /Users/andalman/Dropbox/ConchisData/2014-03-20/f01160/f01160*.json"
       ]
      },
      {
       "output_type": "stream",
       "stream": "stdout",
       "text": [
        "\n",
        "Ignoring arena_mm.  Using tankSize_mm field."
       ]
      },
      {
       "output_type": "stream",
       "stream": "stdout",
       "text": [
        "\n",
        "\n",
        "Search string: /Users/andalman/Dropbox/ConchisData/2014-03-26/f01173/f01173*.json"
       ]
      },
      {
       "output_type": "stream",
       "stream": "stdout",
       "text": [
        "\n",
        "Ignoring arena_mm.  Using tankSize_mm field."
       ]
      },
      {
       "output_type": "stream",
       "stream": "stdout",
       "text": [
        "\n",
        "\n",
        "Search string: /Users/andalman/Dropbox/ConchisData/2014-03-26/f01175/f01175*.json"
       ]
      },
      {
       "output_type": "stream",
       "stream": "stdout",
       "text": [
        "\n",
        "Ignoring arena_mm.  Using tankSize_mm field."
       ]
      },
      {
       "output_type": "stream",
       "stream": "stdout",
       "text": [
        "\n",
        "\n",
        "Search string: /Users/andalman/Dropbox/ConchisData/2014-03-26/f01177/f01177*.json"
       ]
      },
      {
       "output_type": "stream",
       "stream": "stdout",
       "text": [
        "\n",
        "Ignoring arena_mm.  Using tankSize_mm field."
       ]
      },
      {
       "output_type": "stream",
       "stream": "stdout",
       "text": [
        "\n",
        "\n",
        "Search string: /Users/andalman/Dropbox/ConchisData/2014-04-01/f01201/f01201*.json"
       ]
      },
      {
       "output_type": "stream",
       "stream": "stdout",
       "text": [
        "\n",
        "Ignoring arena_mm.  Using tankSize_mm field."
       ]
      },
      {
       "output_type": "stream",
       "stream": "stdout",
       "text": [
        "\n",
        "\n",
        "Search string: /Users/andalman/Dropbox/ConchisData/2014-04-01/f01201/f01201*.json"
       ]
      },
      {
       "output_type": "stream",
       "stream": "stdout",
       "text": [
        "\n",
        "Ignoring arena_mm.  Using tankSize_mm field."
       ]
      },
      {
       "output_type": "stream",
       "stream": "stdout",
       "text": [
        "\n",
        "\n",
        "Search string: /Users/andalman/Dropbox/ConchisData/2014-04-01/f01203/f01203*.json"
       ]
      },
      {
       "output_type": "stream",
       "stream": "stdout",
       "text": [
        "\n",
        "Ignoring arena_mm.  Using tankSize_mm field."
       ]
      },
      {
       "output_type": "stream",
       "stream": "stdout",
       "text": [
        "\n",
        "\n",
        "Search string: /Users/andalman/Dropbox/ConchisData/2014-04-01/f01204/f01204*.json"
       ]
      },
      {
       "output_type": "stream",
       "stream": "stdout",
       "text": [
        "\n",
        "Ignoring arena_mm.  Using tankSize_mm field."
       ]
      },
      {
       "output_type": "stream",
       "stream": "stdout",
       "text": [
        "\n",
        "\n",
        "Search string: /Users/andalman/Dropbox/ConchisData/2014-04-01/f01206/f01206*.json"
       ]
      },
      {
       "output_type": "stream",
       "stream": "stdout",
       "text": [
        "\n",
        "Ignoring arena_mm.  Using tankSize_mm field."
       ]
      },
      {
       "output_type": "stream",
       "stream": "stdout",
       "text": [
        "\n",
        "\n",
        "Search string: /Users/andalman/Dropbox/ConchisData/2014-04-01/f01213/f01213*.json"
       ]
      },
      {
       "output_type": "stream",
       "stream": "stdout",
       "text": [
        "\n",
        "Ignoring arena_mm.  Using tankSize_mm field."
       ]
      },
      {
       "output_type": "stream",
       "stream": "stdout",
       "text": [
        "\n",
        "\n",
        "Search string: /Users/andalman/Dropbox/ConchisData/2014-04-01/f01214/f01214*.json"
       ]
      },
      {
       "output_type": "stream",
       "stream": "stdout",
       "text": [
        "\n",
        "Ignoring arena_mm.  Using tankSize_mm field."
       ]
      },
      {
       "output_type": "stream",
       "stream": "stdout",
       "text": [
        "\n",
        "\n",
        "Search string: /Users/andalman/Dropbox/ConchisData/2014-04-22/f01239/f01239*.json"
       ]
      },
      {
       "output_type": "stream",
       "stream": "stdout",
       "text": [
        "\n",
        "Ignoring arena_mm.  Using tankSize_mm field."
       ]
      },
      {
       "output_type": "stream",
       "stream": "stdout",
       "text": [
        "\n",
        "\n",
        "Search string: /Users/andalman/Dropbox/ConchisData/2014-03-20/f01148/f01148*.json"
       ]
      },
      {
       "output_type": "stream",
       "stream": "stdout",
       "text": [
        "\n",
        "Ignoring arena_mm.  Using tankSize_mm field."
       ]
      },
      {
       "output_type": "stream",
       "stream": "stdout",
       "text": [
        "\n",
        "\n",
        "Search string: /Users/andalman/Dropbox/ConchisData/2014-03-20/f01149/f01149*.json"
       ]
      },
      {
       "output_type": "stream",
       "stream": "stdout",
       "text": [
        "\n",
        "Ignoring arena_mm.  Using tankSize_mm field."
       ]
      },
      {
       "output_type": "stream",
       "stream": "stdout",
       "text": [
        "\n",
        "\n",
        "Search string: /Users/andalman/Dropbox/ConchisData/2014-03-20/f01150/f01150*.json"
       ]
      },
      {
       "output_type": "stream",
       "stream": "stdout",
       "text": [
        "\n",
        "Ignoring arena_mm.  Using tankSize_mm field."
       ]
      },
      {
       "output_type": "stream",
       "stream": "stdout",
       "text": [
        "\n",
        "\n",
        "Search string: /Users/andalman/Dropbox/ConchisData/2014-03-20/f01151/f01151*.json"
       ]
      },
      {
       "output_type": "stream",
       "stream": "stdout",
       "text": [
        "\n",
        "Ignoring arena_mm.  Using tankSize_mm field."
       ]
      },
      {
       "output_type": "stream",
       "stream": "stdout",
       "text": [
        "\n",
        "\n",
        "Search string: /Users/andalman/Dropbox/ConchisData/2014-03-20/f01152/f01152*.json"
       ]
      },
      {
       "output_type": "stream",
       "stream": "stdout",
       "text": [
        "\n",
        "Ignoring arena_mm.  Using tankSize_mm field."
       ]
      },
      {
       "output_type": "stream",
       "stream": "stdout",
       "text": [
        "\n",
        "\n",
        "Search string: /Users/andalman/Dropbox/ConchisData/2014-03-20/f01153/f01153*.json"
       ]
      },
      {
       "output_type": "stream",
       "stream": "stdout",
       "text": [
        "\n",
        "Ignoring arena_mm.  Using tankSize_mm field."
       ]
      },
      {
       "output_type": "stream",
       "stream": "stdout",
       "text": [
        "\n",
        "\n",
        "Search string: /Users/andalman/Dropbox/ConchisData/2014-03-20/f01154/f01154*.json"
       ]
      },
      {
       "output_type": "stream",
       "stream": "stdout",
       "text": [
        "\n",
        "Ignoring arena_mm.  Using tankSize_mm field."
       ]
      },
      {
       "output_type": "stream",
       "stream": "stdout",
       "text": [
        "\n",
        "\n",
        "Search string: /Users/andalman/Dropbox/ConchisData/2014-03-20/f01155/f01155*.json"
       ]
      },
      {
       "output_type": "stream",
       "stream": "stdout",
       "text": [
        "\n",
        "Ignoring arena_mm.  Using tankSize_mm field."
       ]
      },
      {
       "output_type": "stream",
       "stream": "stdout",
       "text": [
        "\n",
        "\n",
        "Search string: /Users/andalman/Dropbox/ConchisData/2014-03-20/f01156/f01156*.json"
       ]
      },
      {
       "output_type": "stream",
       "stream": "stdout",
       "text": [
        "\n",
        "Ignoring arena_mm.  Using tankSize_mm field."
       ]
      },
      {
       "output_type": "stream",
       "stream": "stdout",
       "text": [
        "\n",
        "\n",
        "Search string: /Users/andalman/Dropbox/ConchisData/2014-03-25/f01167/f01167*.json"
       ]
      },
      {
       "output_type": "stream",
       "stream": "stdout",
       "text": [
        "\n",
        "Ignoring arena_mm.  Using tankSize_mm field."
       ]
      },
      {
       "output_type": "stream",
       "stream": "stdout",
       "text": [
        "\n",
        "\n",
        "Search string: /Users/andalman/Dropbox/ConchisData/2014-03-25/f01169/f01169*.json"
       ]
      },
      {
       "output_type": "stream",
       "stream": "stdout",
       "text": [
        "\n",
        "Ignoring arena_mm.  Using tankSize_mm field."
       ]
      },
      {
       "output_type": "stream",
       "stream": "stdout",
       "text": [
        "\n",
        "\n",
        "Search string: /Users/andalman/Dropbox/ConchisData/2014-03-26/f01179/f01179*.json"
       ]
      },
      {
       "output_type": "stream",
       "stream": "stdout",
       "text": [
        "\n",
        "Ignoring arena_mm.  Using tankSize_mm field."
       ]
      },
      {
       "output_type": "stream",
       "stream": "stdout",
       "text": [
        "\n",
        "\n",
        "Search string: /Users/andalman/Dropbox/ConchisData/2014-03-26/f01181/f01181*.json"
       ]
      },
      {
       "output_type": "stream",
       "stream": "stdout",
       "text": [
        "\n",
        "Ignoring arena_mm.  Using tankSize_mm field."
       ]
      },
      {
       "output_type": "stream",
       "stream": "stdout",
       "text": [
        "\n",
        "\n",
        "Search string: /Users/andalman/Dropbox/ConchisData/2014-03-26/f01183/f01183*.json"
       ]
      },
      {
       "output_type": "stream",
       "stream": "stdout",
       "text": [
        "\n",
        "Ignoring arena_mm.  Using tankSize_mm field."
       ]
      },
      {
       "output_type": "stream",
       "stream": "stdout",
       "text": [
        "\n",
        "\n",
        "Search string: /Users/andalman/Dropbox/ConchisData/2014-03-26/f01185/f01185*.json"
       ]
      },
      {
       "output_type": "stream",
       "stream": "stdout",
       "text": [
        "\n",
        "Ignoring arena_mm.  Using tankSize_mm field.\n",
        "\n",
        "Search string: /Users/andalman/Dropbox/ConchisData/2014-04-01/f01207/f01207*.json"
       ]
      },
      {
       "output_type": "stream",
       "stream": "stdout",
       "text": [
        "\n",
        "Ignoring arena_mm.  Using tankSize_mm field."
       ]
      },
      {
       "output_type": "stream",
       "stream": "stdout",
       "text": [
        "\n",
        "\n",
        "Search string: /Users/andalman/Dropbox/ConchisData/2014-04-01/f01208/f01208*.json"
       ]
      },
      {
       "output_type": "stream",
       "stream": "stdout",
       "text": [
        "\n",
        "Ignoring arena_mm.  Using tankSize_mm field."
       ]
      },
      {
       "output_type": "stream",
       "stream": "stdout",
       "text": [
        "\n",
        "\n",
        "Search string: /Users/andalman/Dropbox/ConchisData/2014-04-01/f01209/f01209*.json"
       ]
      },
      {
       "output_type": "stream",
       "stream": "stdout",
       "text": [
        "\n",
        "Ignoring arena_mm.  Using tankSize_mm field."
       ]
      },
      {
       "output_type": "stream",
       "stream": "stdout",
       "text": [
        "\n",
        "\n",
        "Search string: /Users/andalman/Dropbox/ConchisData/2014-04-01/f01210/f01210*.json"
       ]
      },
      {
       "output_type": "stream",
       "stream": "stdout",
       "text": [
        "\n",
        "Ignoring arena_mm.  Using tankSize_mm field."
       ]
      },
      {
       "output_type": "stream",
       "stream": "stdout",
       "text": [
        "\n",
        "\n",
        "Search string: /Users/andalman/Dropbox/ConchisData/2014-04-01/f01211/f01211*.json"
       ]
      },
      {
       "output_type": "stream",
       "stream": "stdout",
       "text": [
        "\n",
        "Ignoring arena_mm.  Using tankSize_mm field."
       ]
      },
      {
       "output_type": "stream",
       "stream": "stdout",
       "text": [
        "\n",
        "\n",
        "Search string: /Users/andalman/Dropbox/ConchisData/2014-04-01/f01212/f01212*.json"
       ]
      },
      {
       "output_type": "stream",
       "stream": "stdout",
       "text": [
        "\n",
        "Ignoring arena_mm.  Using tankSize_mm field."
       ]
      },
      {
       "output_type": "stream",
       "stream": "stdout",
       "text": [
        "\n",
        "\n",
        "Search string: /Users/andalman/Dropbox/ConchisData/2014-04-22/f01238/f01238*.json"
       ]
      },
      {
       "output_type": "stream",
       "stream": "stdout",
       "text": [
        "\n",
        "Ignoring arena_mm.  Using tankSize_mm field."
       ]
      },
      {
       "output_type": "stream",
       "stream": "stdout",
       "text": [
        "\n",
        "Dataset loaded"
       ]
      },
      {
       "output_type": "stream",
       "stream": "stdout",
       "text": [
        "\n"
       ]
      }
     ],
     "prompt_number": 64
    },
    {
     "cell_type": "markdown",
     "metadata": {},
     "source": [
      "The following cell extracts relevant statistics from these data sets.  From the free-swimming data, it extracts the starting and ending velocity.  From the head-fixed data, it extracts the average movement rate.\n",
      "\n",
      "TODO: This code needs to be modified to extract the startle responses.  This could be array of 10 T/F or magnitude values for each fish.  Or perhaps just a single fraction for each fish as a first pass."
     ]
    },
    {
     "cell_type": "code",
     "collapsed": false,
     "input": [
      "#ASSESS THRESHOLD FOR MOVEMENTS\n",
      "cohort = 'c'\n",
      "nFish = 21\n",
      "d = data[cohort][nFish]['vr']\n",
      "t = [(tvec[3]*60*60 + tvec[4]*60 + tvec[5]) for tvec in data[cohort][nFish]['vr']['gFrameTime']]\n",
      "t0 = t[0]\n",
      "t = t - t0\n",
      "plot(t,d['gPixDiff'])\n",
      "title(data[cohort][nFish]['fnum'])\n",
      "\n",
      "#from IPython.display import HTML\n",
      "#video = open(data[cohort][nFish]['moviename'], \"rb\").read()\n",
      "#video_encoded = video.encode(\"base64\")\n",
      "#video_tag = '<video controls alt=\"test\" src=\"data:video/x-m4v;base64,{0}\">'.format(video_encoded)\n",
      "#HTML(video_tag)"
     ],
     "language": "python",
     "metadata": {},
     "outputs": [
      {
       "metadata": {},
       "output_type": "pyout",
       "prompt_number": 19,
       "text": [
        "<matplotlib.text.Text at 0x554b9950>"
       ]
      }
     ],
     "prompt_number": 19
    },
    {
     "cell_type": "code",
     "collapsed": false,
     "input": [
      "#EXTRACT STATISTICS FROM DATASET\n",
      "#   START AND END VELOCITY FOR FREE SWIMMING DATA\n",
      "#   MOVEMENT RATE FOR HEADFIXED DATA\n",
      "#   TODO: STARTLE RESPOSNE...\n",
      "\n",
      "import numpy as np\n",
      "for cohort in ['e','c']:\n",
      "    for nFish in range(len(data[cohort])):\n",
      "        #Free swimming analysis\n",
      "        [vel,vt] = aba.getVelRaw(data[cohort][nFish]['free'], tRange=[100,900], smoothWinLen=15)\n",
      "        data[cohort][nFish]['fStartVel'] = np.median(vel)\n",
      "        [vel,vt] = aba.getVelRaw(data[cohort][nFish]['free'], tRange=[-300,-0], smoothWinLen=15)\n",
      "        data[cohort][nFish]['fEndVel'] = np.median(vel)\n",
      "       \n",
      "        #VR analysis\n",
      "        d = data[cohort][nFish]['vr']\n",
      "        t = [(tvec[3]*60*60 + tvec[4]*60 + tvec[5]) for tvec in data[cohort][nFish]['vr']['gFrameTime']]\n",
      "        t0 = t[0];\n",
      "        t = t - t0;\n",
      "        thres = data[cohort][nFish]['manThres']\n",
      "        [sMoveNdx, eMoveNdx] = aba.detectThresholdCrossings(d['gPixDiff'], thres, True);\n",
      "        isi = np.diff(t[sMoveNdx])\n",
      "        bISI = isi>.3 #swim events must be separated by at least 0.3s.\n",
      "        bsISI = np.insert(bISI,0,True)\n",
      "        beISI = np.append(bISI,False)\n",
      "        sMoveNdx = sMoveNdx[bsISI]\n",
      "        eMoveNdx = eMoveNdx[beISI]\n",
      "        bins = np.arange(0,t[-1],60)\n",
      "        data[cohort][nFish]['moveRate'], data[cohort][nFish]['bins'] = np.histogram(t[sMoveNdx], bins)\n",
      "        data[cohort][nFish]['vAvgMoveRate'] = sum((t[sMoveNdx]>0) & (t[sMoveNdx]<300))/300.0\n",
      "        data[cohort][nFish]['sMoveNdx'] = sMoveNdx\n",
      "        data[cohort][nFish]['eMoveNdx']=eMoveNdx\n",
      "    \n",
      "        #get shock times\n",
      "        bStartle = []\n",
      "        shockInfo = d['gStartShockInfo'][0]\n",
      "        preMovements = []\n",
      "        preWindow = 60\n",
      "        for nShock in range(len(shockInfo)):\n",
      "            startT = (shockInfo[nShock][0][0][5][0][0] %1)*24*60*60 - t0\n",
      "            bStartle.append(sum((t[sMoveNdx]>startT) & (t[sMoveNdx]<startT+1)) > 0)\n",
      "            preMovements.append(sum((t[sMoveNdx]>(startT-preWindow)) & (t[sMoveNdx]<startT-1)))\n",
      "        data[cohort][nFish]['bStartle'] = np.array(bStartle)\n",
      "        data[cohort][nFish]['preMovements']=np.array(preMovements)\n",
      " \n",
      "    for nFish in range(len(imgdata[cohort])):\n",
      "        #Free swimming analysis\n",
      "        [vel,vt] = aba.getVelRaw(imgdata[cohort][nFish]['free'], tRange=[100,900], smoothWinLen=15)\n",
      "        imgdata[cohort][nFish]['fStartVel'] = np.median(vel)\n",
      "        [vel,vt] = aba.getVelRaw(imgdata[cohort][nFish]['free'], tRange=[-300,-0], smoothWinLen=15)\n",
      "        imgdata[cohort][nFish]['fEndVel'] = np.median(vel)\n",
      "        \n",
      "print 'Done'\n",
      "\n"
     ],
     "language": "python",
     "metadata": {},
     "outputs": [
      {
       "output_type": "stream",
       "stream": "stdout",
       "text": [
        "Done\n"
       ]
      }
     ],
     "prompt_number": 65
    },
    {
     "cell_type": "code",
     "collapsed": false,
     "input": [
      "#calculate probability of movement\n",
      "from random import randint\n",
      "testProb = []\n",
      "for cohort in ['e','c']:\n",
      "    for nFish in range((len(data[cohort]))):\n",
      "        testProb = []\n",
      "        d = data[cohort][nFish]\n",
      "        t = [(tvec[3]*60*60 + tvec[4]*60 + tvec[5]) for tvec in data[cohort][nFish]['vr']['gFrameTime']]\n",
      "        t0 = t[0];\n",
      "        t = t - t0;\n",
      "        sMoveNdx = d['sMoveNdx']\n",
      "        eMoveNdx = d['eMoveNdx']\n",
      "        acclimation = (d['vr']['gStartShockInfo'][0][0][0][0][5][0][0]%1)*24*60*60-t0-1\n",
      "        numTrials = 1000\n",
      "        for i in range(numTrials):\n",
      "            testVal = randint(0,300)\n",
      "            testProb.append(sum((t[sMoveNdx]>testVal) & (t[sMoveNdx]<testVal+1))>0)\n",
      "        data[cohort][nFish]['probability']=(sum(testProb)/float(numTrials))\n"
     ],
     "language": "python",
     "metadata": {},
     "outputs": [],
     "prompt_number": 50
    },
    {
     "cell_type": "markdown",
     "metadata": {},
     "source": [
      "The following cell plots the data.  \n",
      "\n",
      "TODO: This cell needs to be modified to plot startle response statistics.  There are lots of possible ways to plot the data."
     ]
    },
    {
     "cell_type": "code",
     "collapsed": false,
     "input": [
      "%pylab inline\n",
      "import itertools\n",
      "subplot(1,1,1)\n",
      "cla()\n",
      "hold(True)\n",
      "for cohort,color in itertools.izip(['e','c'],['r','k']):\n",
      "    if cohort == 'e':\n",
      "        subplot(1,2,2)\n",
      "    else:\n",
      "        subplot(1,2,1)\n",
      "        \n",
      "    for nFish in range(len(data[cohort])):\n",
      "        plot([0,1],[data[cohort][nFish]['fStartVel'], data[cohort][nFish]['fEndVel']], color, alpha=.5)\n",
      "    print [x['fnum'] for x in data[cohort] if x['fStartVel']<1]\n",
      "    \n",
      "    \n",
      "    for nFish in range(len(imgdata[cohort])): \n",
      "        plot([0,1],[imgdata[cohort][nFish]['fStartVel'], imgdata[cohort][nFish]['fEndVel']], color, linewidth=4)\n",
      "    print [x['fnum'] for x in imgdata[cohort] if x['fStartVel']<1]\n",
      "    \n",
      "print [x['fEndVel'] for x in imgdata['c']]"
     ],
     "language": "python",
     "metadata": {},
     "outputs": [
      {
       "output_type": "stream",
       "stream": "stdout",
       "text": [
        "Populating the interactive namespace from numpy and matplotlib\n",
        "[]"
       ]
      },
      {
       "output_type": "stream",
       "stream": "stdout",
       "text": [
        "\n",
        "[]\n",
        "[]"
       ]
      },
      {
       "output_type": "stream",
       "stream": "stdout",
       "text": [
        "\n",
        "[]\n",
        "[1.1617659276019847]\n"
       ]
      },
      {
       "metadata": {},
       "output_type": "display_data",
       "png": "[encoded data removed]",
       "text": [
        "<matplotlib.figure.Figure at 0x139d6ae50>"
       ]
      }
     ],
     "prompt_number": 67
    },
    {
     "cell_type": "code",
     "collapsed": false,
     "input": [
      "subplot(1,1,1)\n",
      "cla()\n",
      "hold(True)\n",
      "expMean = []\n",
      "cntMean = []\n",
      "import itertools\n",
      "for nFish in range(len(data['e'])):\n",
      "    expMean.append(data['e'][nFish]['vAvgMoveRate'])\n",
      "    plot(1, data['e'][nFish]['vAvgMoveRate'],'o', color=[1,.5,.5])\n",
      "for nFish in range(len(imgdata['e'])):\n",
      "    plot(1, imgdata['e'][nFish]['vAvgMoveRate'],'Dr',markersize=10)\n",
      "axhline(mean(expMean), .7, .8, 'r', lw=3)\n",
      "for nFish in range(len(data['c'])):\n",
      "    cntMean.append(data['c'][nFish]['vAvgMoveRate'])\n",
      "    plot(0, data['c'][nFish]['vAvgMoveRate'],'ok', color=[.5,.5,.5])\n",
      "for nFish in range(len(imgdata['c'])):\n",
      "    plot(0, imgdata['c'][nFish]['vAvgMoveRate'],'Dk',markersize=10)\n",
      "axhline(mean(cntMean),.2,.3,'k', lw=3)\n",
      "xlim([-.5,1.5])\n",
      "\n",
      "import scipy.stats as stats\n",
      "[h,p] = stats.ttest_ind(expMean,cntMean)\n",
      "print 'p =', p\n",
      "[h,p] = stats.mannwhitneyu(expMean, cntMean)\n",
      "print 'p=', p"
     ],
     "language": "python",
     "metadata": {},
     "outputs": [
      {
       "output_type": "stream",
       "stream": "stdout",
       "text": [
        "p = 0.0722747032955\n",
        "p= 0.0195821109833\n"
       ]
      },
      {
       "metadata": {},
       "output_type": "display_data",
       "png": "[encoded data removed]",
       "text": [
        "<matplotlib.figure.Figure at 0x139d6ae50>"
       ]
      }
     ],
     "prompt_number": 81
    },
    {
     "cell_type": "code",
     "collapsed": false,
     "input": [
      "probResponse = {}\n",
      "probResponse['e'] = np.zeros([len(data['e']),1])\n",
      "probResponse['c'] = np.zeros([len(data['c']),1])\n",
      "normProb = {}\n",
      "normProb['e'] = np.zeros([len(data['e']),1])\n",
      "normProb['c'] = np.zeros([len(data['c']),1])\n",
      "import itertools\n",
      "for cohort in ['e','c']:\n",
      "    for nFish in range(len(data[cohort])):\n",
      "        probResponse[cohort][nFish] = sum(data[cohort][nFish]['bStartle'])/float(len(data[cohort][nFish]['bStartle']))\n",
      "        normProb[cohort][nFish] = (sum(data[cohort][nFish]['bStartle'])/float(len(data[cohort][nFish]['bStartle'])))/data[cohort][nFish]['probability']\n",
      "figure()\n",
      "for pr,position in itertools.izip([probResponse, normProb],[0,1]): \n",
      "    subplot(1,2,position+1)\n",
      "    plot(0,pr['c'].T + random.normal(scale = .01, size=pr['c'].T.shape),'.k')\n",
      "    plot(1,pr['e'].T + random.normal(scale = .01, size=pr['e'].T.shape),'.r')\n",
      "    axhline(mean(pr['c']),.2,.3, lw=3)\n",
      "    axhline(mean(pr['e']),.7,.8, lw=3)\n",
      "    xlim((-.5,1.5))\n",
      "    \n",
      "import scipy.stats as stats\n",
      "[h,p] = stats.ttest_ind(probResponse['e'],probResponse['c'])\n",
      "print 'p =', p\n",
      "[h,p] = stats.mannwhitneyu(probResponse['e'],probResponse['c'])\n",
      "print 'p=', p\n",
      "[h,p] = stats.ttest_ind(normProb['e'],normProb['c'])\n",
      "print 'p =', p\n",
      "[h,p] = stats.mannwhitneyu(normProb['e'],normProb['c'])\n",
      "print 'p=', p\n",
      "\n"
     ],
     "language": "python",
     "metadata": {},
     "outputs": [
      {
       "output_type": "stream",
       "stream": "stdout",
       "text": [
        "p = [ 0.03824182]\n",
        "p= 0.0185414393675\n",
        "p = [ 0.00878412]\n",
        "p= 0.00381302229653\n"
       ]
      },
      {
       "metadata": {},
       "output_type": "display_data",
       "png": "[encoded data removed]",
       "text": [
        "<matplotlib.figure.Figure at 0x14583fe50>"
       ]
      }
     ],
     "prompt_number": 11
    },
    {
     "cell_type": "code",
     "collapsed": false,
     "input": [
      "subplot(111)\n",
      "plot(0, pr['c'].T + random.normal(scale =0.01, size=pr['c'].T.shape), 'ok')\n",
      "plot(1, pr['e'].T + random.normal(scale=0.01, size=pr['e'].T.shape), 'or')\n",
      "axhline(mean(pr['c']), .2,.3,lw=3)\n",
      "axhline(mean(pr['e']),.7,.8, lw=3)\n",
      "xlim((-.5, 1.5))\n",
      "ylim((0,100))\n",
      "                                                       "
     ],
     "language": "python",
     "metadata": {},
     "outputs": [
      {
       "metadata": {},
       "output_type": "pyout",
       "prompt_number": 12,
       "text": [
        "(0, 100)"
       ]
      },
      {
       "metadata": {},
       "output_type": "display_data",
       "png": "[encoded data removed]",
       "text": [
        "<matplotlib.figure.Figure at 0x14583fe50>"
       ]
      }
     ],
     "prompt_number": 12
    },
    {
     "cell_type": "code",
     "collapsed": false,
     "input": [
      "#plot probability of response to end velocity\n",
      "#plot number of startles to end velocity\n",
      "import itertools\n",
      "figure()\n",
      "for cohort,color in itertools.izip(['e', 'c'],['r', 'k']):\n",
      "    for nFish in range(len(data[cohort])):\n",
      "        subplot(1,2,1)\n",
      "        hold(True)\n",
      "        plot(data[cohort][nFish]['fEndVel'], probResponse[cohort][nFish],'o'+color)\n",
      "        \n",
      "        ax2=subplot(1,2,2)\n",
      "        hold(True)\n",
      "        ax2.plot(data[cohort][nFish]['fEndVel'], data[cohort][nFish]['vAvgMoveRate'],'o'+color)\n",
      "   \n",
      "subplot(121)\n",
      "gca()\n",
      "xlabel('End Vel')\n",
      "ylabel('Prob Response')\n",
      "\n",
      "subplot(122)\n",
      "gca()\n",
      "xlabel('End Vel')\n",
      "ylabel('Avg Move Rate')\n",
      "\n",
      "\n",
      "print 'plotted'"
     ],
     "language": "python",
     "metadata": {},
     "outputs": [
      {
       "output_type": "stream",
       "stream": "stdout",
       "text": [
        "plotted\n"
       ]
      }
     ],
     "prompt_number": 9
    },
    {
     "cell_type": "code",
     "collapsed": false,
     "input": [
      "#plot probability of response to end velocity\n",
      "#plot number of startles to end velocity\n",
      "import itertools\n",
      "figure()\n",
      "subplots_adjust(wspace=0.001)\n",
      "ax1=subplot2grid((1,4), (0,0), colspan=3)\n",
      "hold(True)\n",
      "for cohort,color in itertools.izip(['e', 'c'],['r', 'k']):\n",
      "    for nFish in range(len(data[cohort])):\n",
      "        ax1.plot(data[cohort][nFish]['fEndVel'], probResponse[cohort][nFish],'o'+color)\n",
      "ax2 = subplot2grid((1,4), (0,3), sharey=ax1)       \n",
      "ax2.hist(probResponse['e'][:], orientation='horizontal', color='r', alpha=.6, align='mid', rwidth=.75)\n",
      "hold(True)\n",
      "ax2.hist(probResponse['c'][:], orientation='horizontal', color='k', alpha=.4, align='mid', rwidth=.75)\n",
      "yl = ax2.get_yticklabels() \n",
      "setp(yl, visible=False)\n",
      "ax2.axis('off')\n",
      "ax1.set_xlabel('End Vel')\n",
      "ax1.set_ylabel('Prob of Response')\n",
      "\n",
      "print 'plotted'"
     ],
     "language": "python",
     "metadata": {},
     "outputs": [
      {
       "output_type": "stream",
       "stream": "stdout",
       "text": [
        "plotted\n"
       ]
      }
     ],
     "prompt_number": 10
    },
    {
     "cell_type": "code",
     "collapsed": false,
     "input": [
      "startleRespByTrial = {}\n",
      "startleRespByTrial['e'] = np.zeros([1,10])\n",
      "startleRespByTrial['c'] = np.zeros([1,10])\n",
      "for cohort,color in itertools.izip(['e', 'c'],['r', 'k']):\n",
      "    for nFish in range(len(data[cohort])):\n",
      "        startleRespByTrial[cohort]+=(data[cohort][nFish]['bStartle'])\n",
      "    startleRespByTrial[cohort] /= len(data[cohort])\n",
      "    \n",
      "subplot(1,1,1)\n",
      "cla()\n",
      "hold(True)\n",
      "plot(range(10), startleRespByTrial['c'].T,'k')\n",
      "plot(range(10), startleRespByTrial['e'].T,'r')\n",
      "xlabel('Trial Number')\n",
      "ylabel('Probability Fish Responded')\n",
      "#ylim(0,1)\n",
      "print mean(startleRespByTrial['c'])\n",
      "print mean(startleRespByTrial['e'])\n",
      "[h,p] = stats.ttest_ind(startleRespByTrial['e'].T,startleRespByTrial['c'].T)\n",
      "print 'p =', p\n",
      "[h,p] = stats.mannwhitneyu(startleRespByTrial['e'].T,startleRespByTrial['c'].T)\n",
      "print 'p=', p"
     ],
     "language": "python",
     "metadata": {},
     "outputs": [
      {
       "output_type": "stream",
       "stream": "stdout",
       "text": [
        "0.609090909091\n",
        "0.426086956522\n",
        "p = [ 0.01220557]\n",
        "p= 0.0104943418649\n"
       ]
      }
     ],
     "prompt_number": 14
    },
    {
     "cell_type": "code",
     "collapsed": false,
     "input": [
      "import itertools\n",
      "for cohort,color in itertools.izip(['e', 'c'],['r', 'k']):\n",
      "    for nFish in range(len(data[cohort])):\n",
      "        subplot(1,4,1)\n",
      "        hold(True)\n",
      "        plot(data[cohort][nFish]['fStartVel'], data[cohort][nFish]['fEndVel'],'o'+color)\n",
      "        \n",
      "        #subplot(1,4,2)\n",
      "        #hold(True)\n",
      "        #plot(data[cohort][nFish]['fEndVel'], data[cohort][nFish]['vAvgMoveRate'],'o'+color)\n",
      "        \n",
      "        #subplot(1,4,3)\n",
      "        #hold(True)\n",
      "        #plot(data[cohort][nFish]['fEndVel']/data[cohort][nFish]['fStartVel'], data[cohort][nFish]['vAvgMoveRate'],'o'+color)\n",
      "        \n",
      "        #subplot(1,4,4)\n",
      "        #hold(True)\n",
      "        #plot(data[cohort][nFish]['fEndVel'] - data[cohort][nFish]['fStartVel'], data[cohort][nFish]['vAvgMoveRate'],'o'+color)\n",
      "print 'plotted'\n"
     ],
     "language": "python",
     "metadata": {},
     "outputs": [
      {
       "output_type": "stream",
       "stream": "stdout",
       "text": [
        "plotted\n"
       ]
      }
     ],
     "prompt_number": 12
    },
    {
     "cell_type": "markdown",
     "metadata": {},
     "source": [
      "The following cell computes significance statistics."
     ]
    },
    {
     "cell_type": "code",
     "collapsed": false,
     "input": [
      "from scipy.stats import linregress\n",
      "from scipy.stats import ttest_ind\n",
      "from scipy.stats import mannwhitneyu\n",
      "vrMR = np.hstack([[d['vAvgMoveRate'] for d in data['e'][:]],[d['vAvgMoveRate'] for d in data['c'][:]]])\n",
      "vrRatio = np.hstack([[d['fEndVel']/d['fStartVel'] for d in data['e'][:]],[d['fEndVel']/d['fStartVel']  for d in data['c'][:]]])\n",
      "plot(vrRatio, vrMR,'o')\n",
      "[m,b,r,p,e] = linregress(vrRatio, vrMR)\n",
      "print 'm,b,r,p,e', m,b,r,p,e\n",
      "\n",
      "exp = [d['vAvgMoveRate'] for d in filter(lambda x: x['fnum']>0 , data['e'][:])]\n",
      "cnt = [d['vAvgMoveRate'] for d in filter(lambda x: x['fnum']>0 , data['c'][:])]\n",
      "print 'mean c', mean(cnt)\n",
      "print 'mean e', mean(exp)\n",
      "[h,p] = ttest_ind( exp, cnt )\n",
      "print 'p =', p\n",
      "[h,p] = mannwhitneyu( exp, cnt )\n",
      "print 'p =', p\n"
     ],
     "language": "python",
     "metadata": {},
     "outputs": [
      {
       "output_type": "stream",
       "stream": "stdout",
       "text": [
        "m,b,r,p,e -0.0678151803798 0.218456707845 -0.0951467241343 0.534128767594 0.108199209764\n",
        "mean c 0.0883333333333\n",
        "mean e 0.287536231884\n",
        "p = 0.0157107949828\n",
        "p = 0.00621935141723\n"
       ]
      }
     ],
     "prompt_number": 51
    }
   ],
   "metadata": {}
  }
 ]
}