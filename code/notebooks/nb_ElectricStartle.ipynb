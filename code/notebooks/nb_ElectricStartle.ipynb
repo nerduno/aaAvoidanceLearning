{
 "metadata": {
  "name": ""
 },
 "nbformat": 3,
 "nbformat_minor": 0,
 "worksheets": [
  {
   "cells": [
    {
     "cell_type": "markdown",
     "metadata": {},
     "source": [
      "The following cell specifies the relevant data to be analyzed.  For each dataset, you need to supply the date, the fish number, and a threshold specifing is the number of pixel that must be different to indicate a movement in the head-fixed data (depending on lighting, fish size, etc.).  data['e'] should contain shocked fish, and 'c' control fish.\n",
      "\n",
      "Be sure to re-execute the cell using the play button if you modify the cell."
     ]
    },
    {
     "cell_type": "code",
     "collapsed": false,
     "input": [
      "%matplotlib inline"
     ],
     "language": "python",
     "metadata": {},
     "outputs": [],
     "prompt_number": 1
    },
    {
     "cell_type": "code",
     "collapsed": false,
     "input": [
      "#DEFINE DATA SET\n",
      "data = {}\n",
      "\n",
      "data['e'] =         [\n",
      "                     {'date':'20140319','fnum':1137, 'manThres':75},\n",
      "                     {'date':'20140319','fnum':1138, 'manThres':75},\n",
      "                     {'date':'20140319','fnum':1139, 'manThres':20},\n",
      "                     {'date':'20140319','fnum':1140, 'manThres':75},\n",
      "                     {'date':'20140319','fnum':1141, 'manThres':75},\n",
      "                     {'date':'20140319','fnum':1142, 'manThres':75},\n",
      "                     {'date':'20140320','fnum':1157, 'manThres':50},\n",
      "                     {'date':'20140320','fnum':1158, 'manThres':40}, \n",
      "                     {'date':'20140320','fnum':1159, 'manThres':40},\n",
      "                     {'date':'20140320','fnum':1160, 'manThres':75},\n",
      "                     {'date':'20140325','fnum':1163, 'manThres':50},\n",
      "                     #{'date':'20140326','fnum':1171, 'manThres':20}, #no video?\n",
      "                     {'date':'20140326','fnum':1173, 'manThres':40},\n",
      "                     {'date':'20140326','fnum':1175, 'manThres':50},\n",
      "                     {'date':'20140326','fnum':1177, 'manThres':20},\n",
      "                     {'date':'20140326','fnum':1189, 'manThres':50}, \n",
      "                     ]\n",
      "\n",
      "data['c'] =         [   \n",
      "                     {'date':'20140320','fnum':1148, 'manThres':50},\n",
      "                     {'date':'20140320','fnum':1149, 'manThres':50},\n",
      "                     {'date':'20140320','fnum':1150, 'manThres':30},\n",
      "                     {'date':'20140320','fnum':1151, 'manThres':75},\n",
      "                     {'date':'20140320','fnum':1152, 'manThres':20},\n",
      "                     {'date':'20140320','fnum':1153, 'manThres':30},\n",
      "                     {'date':'20140320','fnum':1154, 'manThres':75},\n",
      "                     {'date':'20140320','fnum':1155, 'manThres':75},\n",
      "                     {'date':'20140320','fnum':1156, 'manThres':75},\n",
      "                     {'date':'20140325','fnum':1161, 'manThres':50},\n",
      "                     {'date':'20140325','fnum':1167, 'manThres':50},\n",
      "                     {'date':'20140325','fnum':1169, 'manThres':50},\n",
      "                     {'date':'20140326','fnum':1179, 'manThres':75},\n",
      "                     {'date':'20140326','fnum':1181, 'manThres':50},\n",
      "                     {'date':'20140326','fnum':1183, 'manThres':50},\n",
      "                     {'date':'20140326','fnum':1185, 'manThres':50},\n",
      "                     ]\n",
      "print 'Dataset chosen'"
     ],
     "language": "python",
     "metadata": {},
     "outputs": [
      {
       "output_type": "stream",
       "stream": "stdout",
       "text": [
        "Dataset chosen\n"
       ]
      }
     ],
     "prompt_number": 170
    },
    {
     "cell_type": "code",
     "collapsed": false,
     "input": [
      "#DEFINE DATA SET\n",
      "data = {}\n",
      "\n",
      "data['e'] =         [\n",
      "                     #{'date':'20140319','fnum':1137, 'manThres':75},\n",
      "                     #{'date':'20140319','fnum':1138, 'manThres':75},\n",
      "                     #{'date':'20140319','fnum':1139, 'manThres':20},\n",
      "                     #{'date':'20140319','fnum':1140, 'manThres':75},\n",
      "                     #{'date':'20140319','fnum':1141, 'manThres':75},\n",
      "                     #{'date':'20140319','fnum':1142, 'manThres':75},\n",
      "                     #{'date':'20140320','fnum':1157, 'manThres':50},\n",
      "                     #{'date':'20140320','fnum':1158, 'manThres':40}, \n",
      "                     #{'date':'20140320','fnum':1159, 'manThres':40},\n",
      "                     #{'date':'20140320','fnum':1160, 'manThres':75},\n",
      "                     {'date':'20140325','fnum':1163, 'manThres':50},\n",
      "                     #{'date':'20140326','fnum':1171, 'manThres':20}, #no video?\n",
      "                     {'date':'20140326','fnum':1173, 'manThres':40},\n",
      "                     {'date':'20140326','fnum':1175, 'manThres':50},\n",
      "                     {'date':'20140326','fnum':1177, 'manThres':20},\n",
      "                     {'date':'20140326','fnum':1189, 'manThres':50}, \n",
      "                     ]\n",
      "\n",
      "data['c'] =         [   \n",
      "                     #{'date':'20140320','fnum':1148, 'manThres':50},\n",
      "                     #{'date':'20140320','fnum':1149, 'manThres':50},\n",
      "                     #{'date':'20140320','fnum':1150, 'manThres':30},\n",
      "                     #{'date':'20140320','fnum':1151, 'manThres':75},\n",
      "                     #{'date':'20140320','fnum':1152, 'manThres':20},\n",
      "                     #{'date':'20140320','fnum':1153, 'manThres':30},\n",
      "                     #{'date':'20140320','fnum':1154, 'manThres':75},\n",
      "                     #{'date':'20140320','fnum':1155, 'manThres':75},\n",
      "                     #{'date':'20140320','fnum':1156, 'manThres':75},\n",
      "                     {'date':'20140325','fnum':1161, 'manThres':50},\n",
      "                     {'date':'20140325','fnum':1167, 'manThres':50},\n",
      "                     {'date':'20140325','fnum':1169, 'manThres':50},\n",
      "                     {'date':'20140326','fnum':1179, 'manThres':75},\n",
      "                     {'date':'20140326','fnum':1181, 'manThres':50},\n",
      "                     {'date':'20140326','fnum':1183, 'manThres':50},\n",
      "                     {'date':'20140326','fnum':1185, 'manThres':50},\n",
      "                     ]\n",
      "print 'Dataset chosen'"
     ],
     "language": "python",
     "metadata": {},
     "outputs": [
      {
       "output_type": "stream",
       "stream": "stdout",
       "text": [
        "Dataset chosen\n"
       ]
      }
     ],
     "prompt_number": 143
    },
    {
     "cell_type": "markdown",
     "metadata": {},
     "source": [
      "The following cell loads  the data specified in the first cell (both free swimming and head fixed data)."
     ]
    },
    {
     "cell_type": "code",
     "collapsed": false,
     "input": [
      "#LOAD BOTH THE FREE-SWIMMING AND HEAD-FIXED DATA.\n",
      "%cd ~/projects/aaAvoidanceLearning/\n",
      "import ArenaBehaviorAnalysis as aba\n",
      "from scipy.io.matlab import loadmat\n",
      "prefix = '/home/vburns';\n",
      "\n",
      "for cohort in ['e','c']:\n",
      "    for nFish in range(len(data[cohort])):\n",
      "        date = data[cohort][nFish]['date']\n",
      "        fnum = data[cohort][nFish]['fnum']\n",
      "        data[cohort][nFish]['moviename'] = '%s/Dropbox/Pisces Data/FishVR/%s/%d_motion.avi'%(prefix, date, fnum)\n",
      "        data[cohort][nFish]['vr'] = loadmat('%s/Dropbox/Pisces Data/FishVR/%s/%d.mat'%(prefix, date, fnum))\n",
      "        data[cohort][nFish]['free'] = aba.loadDataSmart(date[:4]+'-'+date[4:6]+'-'+date[6:], fnum, bAuto=True)[0]\n",
      "\n",
      "print 'Dataset loaded'"
     ],
     "language": "python",
     "metadata": {},
     "outputs": [
      {
       "output_type": "stream",
       "stream": "stdout",
       "text": [
        "/home/vburns/projects/aaAvoidanceLearning\n",
        "\n",
        "Search string: /home/vburns/Dropbox/ConchisData/2014-03-19/f01137/f01137*.json\n",
        "Ignoring arena_mm.  Using tankSize_mm field."
       ]
      },
      {
       "output_type": "stream",
       "stream": "stdout",
       "text": [
        "\n",
        "\n",
        "Search string: /home/vburns/Dropbox/ConchisData/2014-03-19/f01138/f01138*.json"
       ]
      },
      {
       "output_type": "stream",
       "stream": "stdout",
       "text": [
        "\n",
        "Ignoring arena_mm.  Using tankSize_mm field."
       ]
      },
      {
       "output_type": "stream",
       "stream": "stdout",
       "text": [
        "\n",
        "\n",
        "Search string: /home/vburns/Dropbox/ConchisData/2014-03-19/f01139/f01139*.json"
       ]
      },
      {
       "output_type": "stream",
       "stream": "stdout",
       "text": [
        "\n",
        "Ignoring arena_mm.  Using tankSize_mm field."
       ]
      },
      {
       "output_type": "stream",
       "stream": "stdout",
       "text": [
        "\n",
        "\n",
        "Search string: /home/vburns/Dropbox/ConchisData/2014-03-19/f01140/f01140*.json"
       ]
      },
      {
       "output_type": "stream",
       "stream": "stdout",
       "text": [
        "\n",
        "Ignoring arena_mm.  Using tankSize_mm field."
       ]
      },
      {
       "output_type": "stream",
       "stream": "stdout",
       "text": [
        "\n",
        "\n",
        "Search string: /home/vburns/Dropbox/ConchisData/2014-03-19/f01141/f01141*.json"
       ]
      },
      {
       "output_type": "stream",
       "stream": "stdout",
       "text": [
        "\n",
        "Ignoring arena_mm.  Using tankSize_mm field."
       ]
      },
      {
       "output_type": "stream",
       "stream": "stdout",
       "text": [
        "\n",
        "\n",
        "Search string: /home/vburns/Dropbox/ConchisData/2014-03-19/f01142/f01142*.json"
       ]
      },
      {
       "output_type": "stream",
       "stream": "stdout",
       "text": [
        "\n",
        "Ignoring arena_mm.  Using tankSize_mm field."
       ]
      },
      {
       "output_type": "stream",
       "stream": "stdout",
       "text": [
        "\n",
        "\n",
        "Search string: /home/vburns/Dropbox/ConchisData/2014-03-20/f01157/f01157*.json"
       ]
      },
      {
       "output_type": "stream",
       "stream": "stdout",
       "text": [
        "\n",
        "Ignoring arena_mm.  Using tankSize_mm field."
       ]
      },
      {
       "output_type": "stream",
       "stream": "stdout",
       "text": [
        "\n",
        "\n",
        "Search string: /home/vburns/Dropbox/ConchisData/2014-03-20/f01158/f01158*.json"
       ]
      },
      {
       "output_type": "stream",
       "stream": "stdout",
       "text": [
        "\n",
        "Ignoring arena_mm.  Using tankSize_mm field."
       ]
      },
      {
       "output_type": "stream",
       "stream": "stdout",
       "text": [
        "\n",
        "\n",
        "Search string: /home/vburns/Dropbox/ConchisData/2014-03-20/f01159/f01159*.json"
       ]
      },
      {
       "output_type": "stream",
       "stream": "stdout",
       "text": [
        "\n",
        "Ignoring arena_mm.  Using tankSize_mm field."
       ]
      },
      {
       "output_type": "stream",
       "stream": "stdout",
       "text": [
        "\n",
        "\n",
        "Search string: /home/vburns/Dropbox/ConchisData/2014-03-20/f01160/f01160*.json"
       ]
      },
      {
       "output_type": "stream",
       "stream": "stdout",
       "text": [
        "\n",
        "Ignoring arena_mm.  Using tankSize_mm field."
       ]
      },
      {
       "output_type": "stream",
       "stream": "stdout",
       "text": [
        "\n",
        "\n",
        "Search string: /home/vburns/Dropbox/ConchisData/2014-03-25/f01163/f01163*.json"
       ]
      },
      {
       "output_type": "stream",
       "stream": "stdout",
       "text": [
        "\n",
        "Ignoring arena_mm.  Using tankSize_mm field."
       ]
      },
      {
       "output_type": "stream",
       "stream": "stdout",
       "text": [
        "\n",
        "\n",
        "Search string: /home/vburns/Dropbox/ConchisData/2014-03-26/f01173/f01173*.json"
       ]
      },
      {
       "output_type": "stream",
       "stream": "stdout",
       "text": [
        "\n",
        "Ignoring arena_mm.  Using tankSize_mm field."
       ]
      },
      {
       "output_type": "stream",
       "stream": "stdout",
       "text": [
        "\n",
        "\n",
        "Search string: /home/vburns/Dropbox/ConchisData/2014-03-26/f01175/f01175*.json"
       ]
      },
      {
       "output_type": "stream",
       "stream": "stdout",
       "text": [
        "\n",
        "Ignoring arena_mm.  Using tankSize_mm field."
       ]
      },
      {
       "output_type": "stream",
       "stream": "stdout",
       "text": [
        "\n",
        "\n",
        "Search string: /home/vburns/Dropbox/ConchisData/2014-03-26/f01177/f01177*.json"
       ]
      },
      {
       "output_type": "stream",
       "stream": "stdout",
       "text": [
        "\n",
        "Ignoring arena_mm.  Using tankSize_mm field."
       ]
      },
      {
       "output_type": "stream",
       "stream": "stdout",
       "text": [
        "\n",
        "\n",
        "Search string: /home/vburns/Dropbox/ConchisData/2014-03-26/f01189/f01189*.json"
       ]
      },
      {
       "output_type": "stream",
       "stream": "stdout",
       "text": [
        "\n",
        "Ignoring arena_mm.  Using tankSize_mm field."
       ]
      },
      {
       "output_type": "stream",
       "stream": "stdout",
       "text": [
        "\n",
        "\n",
        "Search string: /home/vburns/Dropbox/ConchisData/2014-03-20/f01148/f01148*.json"
       ]
      },
      {
       "output_type": "stream",
       "stream": "stdout",
       "text": [
        "\n",
        "Ignoring arena_mm.  Using tankSize_mm field."
       ]
      },
      {
       "output_type": "stream",
       "stream": "stdout",
       "text": [
        "\n",
        "\n",
        "Search string: /home/vburns/Dropbox/ConchisData/2014-03-20/f01149/f01149*.json"
       ]
      },
      {
       "output_type": "stream",
       "stream": "stdout",
       "text": [
        "\n",
        "Ignoring arena_mm.  Using tankSize_mm field."
       ]
      },
      {
       "output_type": "stream",
       "stream": "stdout",
       "text": [
        "\n",
        "\n",
        "Search string: /home/vburns/Dropbox/ConchisData/2014-03-20/f01150/f01150*.json"
       ]
      },
      {
       "output_type": "stream",
       "stream": "stdout",
       "text": [
        "\n",
        "Ignoring arena_mm.  Using tankSize_mm field."
       ]
      },
      {
       "output_type": "stream",
       "stream": "stdout",
       "text": [
        "\n",
        "\n",
        "Search string: /home/vburns/Dropbox/ConchisData/2014-03-20/f01151/f01151*.json"
       ]
      },
      {
       "output_type": "stream",
       "stream": "stdout",
       "text": [
        "\n",
        "Ignoring arena_mm.  Using tankSize_mm field."
       ]
      },
      {
       "output_type": "stream",
       "stream": "stdout",
       "text": [
        "\n",
        "\n",
        "Search string: /home/vburns/Dropbox/ConchisData/2014-03-20/f01152/f01152*.json"
       ]
      },
      {
       "output_type": "stream",
       "stream": "stdout",
       "text": [
        "\n",
        "Ignoring arena_mm.  Using tankSize_mm field."
       ]
      },
      {
       "output_type": "stream",
       "stream": "stdout",
       "text": [
        "\n",
        "\n",
        "Search string: /home/vburns/Dropbox/ConchisData/2014-03-20/f01153/f01153*.json"
       ]
      },
      {
       "output_type": "stream",
       "stream": "stdout",
       "text": [
        "\n",
        "Ignoring arena_mm.  Using tankSize_mm field."
       ]
      },
      {
       "output_type": "stream",
       "stream": "stdout",
       "text": [
        "\n",
        "\n",
        "Search string: /home/vburns/Dropbox/ConchisData/2014-03-20/f01154/f01154*.json"
       ]
      },
      {
       "output_type": "stream",
       "stream": "stdout",
       "text": [
        "\n",
        "Ignoring arena_mm.  Using tankSize_mm field."
       ]
      },
      {
       "output_type": "stream",
       "stream": "stdout",
       "text": [
        "\n",
        "\n",
        "Search string: /home/vburns/Dropbox/ConchisData/2014-03-20/f01155/f01155*.json"
       ]
      },
      {
       "output_type": "stream",
       "stream": "stdout",
       "text": [
        "\n",
        "Ignoring arena_mm.  Using tankSize_mm field."
       ]
      },
      {
       "output_type": "stream",
       "stream": "stdout",
       "text": [
        "\n",
        "\n",
        "Search string: /home/vburns/Dropbox/ConchisData/2014-03-20/f01156/f01156*.json"
       ]
      },
      {
       "output_type": "stream",
       "stream": "stdout",
       "text": [
        "\n",
        "Ignoring arena_mm.  Using tankSize_mm field."
       ]
      },
      {
       "output_type": "stream",
       "stream": "stdout",
       "text": [
        "\n",
        "\n",
        "Search string: /home/vburns/Dropbox/ConchisData/2014-03-25/f01161/f01161*.json"
       ]
      },
      {
       "output_type": "stream",
       "stream": "stdout",
       "text": [
        "\n",
        "Ignoring arena_mm.  Using tankSize_mm field."
       ]
      },
      {
       "output_type": "stream",
       "stream": "stdout",
       "text": [
        "\n",
        "\n",
        "Search string: /home/vburns/Dropbox/ConchisData/2014-03-25/f01167/f01167*.json"
       ]
      },
      {
       "output_type": "stream",
       "stream": "stdout",
       "text": [
        "\n",
        "Ignoring arena_mm.  Using tankSize_mm field."
       ]
      },
      {
       "output_type": "stream",
       "stream": "stdout",
       "text": [
        "\n",
        "\n",
        "Search string: /home/vburns/Dropbox/ConchisData/2014-03-25/f01169/f01169*.json"
       ]
      },
      {
       "output_type": "stream",
       "stream": "stdout",
       "text": [
        "\n",
        "Ignoring arena_mm.  Using tankSize_mm field."
       ]
      },
      {
       "output_type": "stream",
       "stream": "stdout",
       "text": [
        "\n",
        "\n",
        "Search string: /home/vburns/Dropbox/ConchisData/2014-03-26/f01179/f01179*.json"
       ]
      },
      {
       "output_type": "stream",
       "stream": "stdout",
       "text": [
        "\n",
        "Ignoring arena_mm.  Using tankSize_mm field."
       ]
      },
      {
       "output_type": "stream",
       "stream": "stdout",
       "text": [
        "\n",
        "\n",
        "Search string: /home/vburns/Dropbox/ConchisData/2014-03-26/f01181/f01181*.json"
       ]
      },
      {
       "output_type": "stream",
       "stream": "stdout",
       "text": [
        "\n",
        "Ignoring arena_mm.  Using tankSize_mm field."
       ]
      },
      {
       "output_type": "stream",
       "stream": "stdout",
       "text": [
        "\n",
        "\n",
        "Search string: /home/vburns/Dropbox/ConchisData/2014-03-26/f01183/f01183*.json"
       ]
      },
      {
       "output_type": "stream",
       "stream": "stdout",
       "text": [
        "\n",
        "Ignoring arena_mm.  Using tankSize_mm field."
       ]
      },
      {
       "output_type": "stream",
       "stream": "stdout",
       "text": [
        "\n",
        "\n",
        "Search string: /home/vburns/Dropbox/ConchisData/2014-03-26/f01185/f01185*.json"
       ]
      },
      {
       "output_type": "stream",
       "stream": "stdout",
       "text": [
        "\n",
        "Ignoring arena_mm.  Using tankSize_mm field.\n",
        "Dataset loaded"
       ]
      },
      {
       "output_type": "stream",
       "stream": "stdout",
       "text": [
        "\n"
       ]
      }
     ],
     "prompt_number": 171
    },
    {
     "cell_type": "markdown",
     "metadata": {},
     "source": [
      "The following cell extracts relevant statistics from these data sets.  From the free-swimming data, it extracts the starting and ending velocity.  From the head-fixed data, it extracts the average movement rate.\n",
      "\n",
      "TODO: This code needs to be modified to extract the startle responses.  This could be array of 10 T/F or magnitude values for each fish.  Or perhaps just a single fraction for each fish as a first pass."
     ]
    },
    {
     "cell_type": "code",
     "collapsed": false,
     "input": [
      "#ASSESS THRESHOLD FOR MOVEMENTS\n",
      "cohort = 'c'\n",
      "nFish = 16\n",
      "d = data[cohort][nFish]['vr']\n",
      "t = [(tvec[3]*60*60 + tvec[4]*60 + tvec[5]) for tvec in data[cohort][nFish]['vr']['gFrameTime']]\n",
      "t0 = t[0]\n",
      "t = t - t0\n",
      "plot(t,d['gPixDiff'])\n",
      "title(data[cohort][nFish]['fnum'])\n",
      "\n",
      "#from IPython.display import HTML\n",
      "#video = open(data[cohort][nFish]['moviename'], \"rb\").read()\n",
      "#video_encoded = video.encode(\"base64\")\n",
      "#video_tag = '<video controls alt=\"test\" src=\"data:video/x-m4v;base64,{0}\">'.format(video_encoded)\n",
      "#HTML(video_tag)"
     ],
     "language": "python",
     "metadata": {},
     "outputs": [
      {
       "ename": "IndexError",
       "evalue": "list index out of range",
       "output_type": "pyerr",
       "traceback": [
        "\u001b[1;31m---------------------------------------------------------------------------\u001b[0m\n\u001b[1;31mIndexError\u001b[0m                                Traceback (most recent call last)",
        "\u001b[1;32m<ipython-input-22-106c6a5c6849>\u001b[0m in \u001b[0;36m<module>\u001b[1;34m()\u001b[0m\n\u001b[0;32m      2\u001b[0m \u001b[0mcohort\u001b[0m \u001b[1;33m=\u001b[0m \u001b[1;34m'c'\u001b[0m\u001b[1;33m\u001b[0m\u001b[0m\n\u001b[0;32m      3\u001b[0m \u001b[0mnFish\u001b[0m \u001b[1;33m=\u001b[0m \u001b[1;36m16\u001b[0m\u001b[1;33m\u001b[0m\u001b[0m\n\u001b[1;32m----> 4\u001b[1;33m \u001b[0md\u001b[0m \u001b[1;33m=\u001b[0m \u001b[0mdata\u001b[0m\u001b[1;33m[\u001b[0m\u001b[0mcohort\u001b[0m\u001b[1;33m]\u001b[0m\u001b[1;33m[\u001b[0m\u001b[0mnFish\u001b[0m\u001b[1;33m]\u001b[0m\u001b[1;33m[\u001b[0m\u001b[1;34m'vr'\u001b[0m\u001b[1;33m]\u001b[0m\u001b[1;33m\u001b[0m\u001b[0m\n\u001b[0m\u001b[0;32m      5\u001b[0m \u001b[0mt\u001b[0m \u001b[1;33m=\u001b[0m \u001b[1;33m[\u001b[0m\u001b[1;33m(\u001b[0m\u001b[0mtvec\u001b[0m\u001b[1;33m[\u001b[0m\u001b[1;36m3\u001b[0m\u001b[1;33m]\u001b[0m\u001b[1;33m*\u001b[0m\u001b[1;36m60\u001b[0m\u001b[1;33m*\u001b[0m\u001b[1;36m60\u001b[0m \u001b[1;33m+\u001b[0m \u001b[0mtvec\u001b[0m\u001b[1;33m[\u001b[0m\u001b[1;36m4\u001b[0m\u001b[1;33m]\u001b[0m\u001b[1;33m*\u001b[0m\u001b[1;36m60\u001b[0m \u001b[1;33m+\u001b[0m \u001b[0mtvec\u001b[0m\u001b[1;33m[\u001b[0m\u001b[1;36m5\u001b[0m\u001b[1;33m]\u001b[0m\u001b[1;33m)\u001b[0m \u001b[1;32mfor\u001b[0m \u001b[0mtvec\u001b[0m \u001b[1;32min\u001b[0m \u001b[0mdata\u001b[0m\u001b[1;33m[\u001b[0m\u001b[0mcohort\u001b[0m\u001b[1;33m]\u001b[0m\u001b[1;33m[\u001b[0m\u001b[0mnFish\u001b[0m\u001b[1;33m]\u001b[0m\u001b[1;33m[\u001b[0m\u001b[1;34m'vr'\u001b[0m\u001b[1;33m]\u001b[0m\u001b[1;33m[\u001b[0m\u001b[1;34m'gFrameTime'\u001b[0m\u001b[1;33m]\u001b[0m\u001b[1;33m]\u001b[0m\u001b[1;33m\u001b[0m\u001b[0m\n\u001b[0;32m      6\u001b[0m \u001b[0mt0\u001b[0m \u001b[1;33m=\u001b[0m \u001b[0mt\u001b[0m\u001b[1;33m[\u001b[0m\u001b[1;36m0\u001b[0m\u001b[1;33m]\u001b[0m\u001b[1;33m\u001b[0m\u001b[0m\n",
        "\u001b[1;31mIndexError\u001b[0m: list index out of range"
       ]
      }
     ],
     "prompt_number": 22
    },
    {
     "cell_type": "code",
     "collapsed": false,
     "input": [
      "#EXTRACT STATISTICS FROM DATASET\n",
      "#   START AND END VELOCITY FOR FREE SWIMMING DATA\n",
      "#   MOVEMENT RATE FOR HEADFIXED DATA\n",
      "#   TODO: STARTLE RESPOSNE...\n",
      "\n",
      "import numpy as np\n",
      "for cohort in ['e','c']:\n",
      "    for nFish in range(len(data[cohort])):\n",
      "        #Free swimming analysis\n",
      "        [vel,vt] = aba.getVelRaw(data[cohort][nFish]['free'], tRange=[100,900], smoothWinLen=15)\n",
      "        data[cohort][nFish]['fStartVel'] = np.median(vel)\n",
      "        [vel,vt] = aba.getVelRaw(data[cohort][nFish]['free'], tRange=[-300,-0], smoothWinLen=15)\n",
      "        data[cohort][nFish]['fEndVel'] = np.median(vel)\n",
      "       \n",
      "        #VR analysis\n",
      "        d = data[cohort][nFish]['vr']\n",
      "        t = [(tvec[3]*60*60 + tvec[4]*60 + tvec[5]) for tvec in data[cohort][nFish]['vr']['gFrameTime']]\n",
      "        t0 = t[0];\n",
      "        t = t - t0;\n",
      "        thres = data[cohort][nFish]['manThres']\n",
      "        [sMoveNdx, eMoveNdx] = aba.detectThresholdCrossings(d['gPixDiff'], thres, True);\n",
      "        isi = np.diff(t[sMoveNdx])\n",
      "        bISI = isi>.3 #swim events must be separated by at least 0.3s.\n",
      "        bsISI = np.insert(bISI,0,True)\n",
      "        beISI = np.append(bISI,False)\n",
      "        sMoveNdx = sMoveNdx[bsISI]\n",
      "        eMoveNdx = eMoveNdx[beISI]\n",
      "        bins = np.arange(0,t[-1],60)\n",
      "        data[cohort][nFish]['moveRate'], data[cohort][nFish]['bins'] = np.histogram(t[sMoveNdx], bins)\n",
      "        data[cohort][nFish]['vAvgMoveRate'] = sum((t[sMoveNdx]>0) & (t[sMoveNdx]<300))/300.0\n",
      "        data[cohort][nFish]['sMoveNdx'] = sMoveNdx\n",
      "        data[cohort][nFish]['eMoveNdx']=eMoveNdx\n",
      "    \n",
      "        #get shock times\n",
      "        bStartle = []\n",
      "        shockInfo = d['gStartShockInfo'][0]\n",
      "        preMovements = []\n",
      "        preWindow = 60\n",
      "        for nShock in range(len(shockInfo)):\n",
      "            startT = mod(shockInfo[nShock][0][0][5][0][0],1)*24*60*60 - t0\n",
      "            bStartle.append(sum((t[sMoveNdx]>startT) & (t[sMoveNdx]<startT+1)) > 0)\n",
      "            preMovements.append(sum((t[sMoveNdx]>(startT-preWindow)) & (t[sMoveNdx]<startT-1)))\n",
      "        data[cohort][nFish]['bStartle'] = np.array(bStartle)\n",
      "        data[cohort][nFish]['preMovements']=np.array(preMovements)\n",
      "        \n",
      "print 'Done'\n",
      "\n"
     ],
     "language": "python",
     "metadata": {},
     "outputs": [
      {
       "output_type": "stream",
       "stream": "stdout",
       "text": [
        "Done\n"
       ]
      }
     ],
     "prompt_number": 172
    },
    {
     "cell_type": "code",
     "collapsed": false,
     "input": [
      "data['e'][0]['preMovements']"
     ],
     "language": "python",
     "metadata": {},
     "outputs": [
      {
       "metadata": {},
       "output_type": "pyout",
       "prompt_number": 32,
       "text": [
        "array([3, 3, 2, 2, 3, 2, 0, 6, 1, 0])"
       ]
      }
     ],
     "prompt_number": 32
    },
    {
     "cell_type": "code",
     "collapsed": false,
     "input": [
      "#calculate probability of movement\n",
      "testProb = []\n",
      "for cohort in ['e','c']:\n",
      "    for nFish in range((len(data[cohort]))):\n",
      "        testProb = []\n",
      "        d = data[cohort][nFish]\n",
      "        t = [(tvec[3]*60*60 + tvec[4]*60 + tvec[5]) for tvec in data[cohort][nFish]['vr']['gFrameTime']]\n",
      "        t0 = t[0];\n",
      "        t = t - t0;\n",
      "        sMoveNdx = d['sMoveNdx']\n",
      "        eMoveNdx = d['eMoveNdx']\n",
      "        acclimation = mod(d['vr']['gStartShockInfo'][0][0][0][0][5][0][0],1)*24*60*60-t0-1\n",
      "        numTrials = 10000\n",
      "        for i in range(numTrials):\n",
      "            testVal = randint(0,300)\n",
      "            testProb.append(sum((t[sMoveNdx]>testVal) & (t[sMoveNdx]<testVal+1))>0)\n",
      "        data[cohort][nFish]['probability']=(sum(testProb)/float(numTrials))\n"
     ],
     "language": "python",
     "metadata": {},
     "outputs": [],
     "prompt_number": 173
    },
    {
     "cell_type": "markdown",
     "metadata": {},
     "source": [
      "The following cell plots the data.  \n",
      "\n",
      "TODO: This cell needs to be modified to plot startle response statistics.  There are lots of possible ways to plot the data."
     ]
    },
    {
     "cell_type": "code",
     "collapsed": false,
     "input": [
      "import itertools\n",
      "subplot(1,1,1)\n",
      "cla()\n",
      "hold(True)\n",
      "for cohort,color in itertools.izip(['e','c'],['r','k']):\n",
      "    for nFish in range(len(data[cohort])):\n",
      "        plot([0,1],[data[cohort][nFish]['fStartVel'], data[cohort][nFish]['fEndVel']], color)"
     ],
     "language": "python",
     "metadata": {},
     "outputs": [],
     "prompt_number": 37
    },
    {
     "cell_type": "code",
     "collapsed": false,
     "input": [
      "subplot(1,1,1)\n",
      "cla()\n",
      "hold(True)\n",
      "expMean = []\n",
      "cntMean = []\n",
      "import itertools\n",
      "for nFish in range(len(data['e'])):\n",
      "    expMean.append(data['e'][nFish]['vAvgMoveRate'])\n",
      "    plot(1, data['e'][nFish]['vAvgMoveRate'],'or')\n",
      "axhline(mean(expMean), .7, .8, 'r', lw=3)\n",
      "for nFish in range(len(data['c'])):\n",
      "    cntMean.append(data['c'][nFish]['vAvgMoveRate'])\n",
      "    plot(0, data['c'][nFish]['vAvgMoveRate'],'ok')\n",
      "axhline(mean(cntMean),.2,.3,'k', lw=3)\n",
      "xlim([-.5,1.5])\n",
      "\n",
      "import scipy.stats as stats\n",
      "[h,p] = stats.ttest_ind(expMean,cntMean)\n",
      "print 'p =', p\n",
      "[h,p] = stats.mannwhitneyu(expMean, cntMean)\n",
      "print 'p=', p"
     ],
     "language": "python",
     "metadata": {},
     "outputs": [
      {
       "output_type": "stream",
       "stream": "stdout",
       "text": [
        "p = 0.128645702777\n",
        "p= 0.0567226957895\n"
       ]
      }
     ],
     "prompt_number": 175
    },
    {
     "cell_type": "code",
     "collapsed": false,
     "input": [
      "sum(data['e'][1]['bStartle'])"
     ],
     "language": "python",
     "metadata": {},
     "outputs": [
      {
       "metadata": {},
       "output_type": "pyout",
       "prompt_number": 110,
       "text": [
        "9"
       ]
      }
     ],
     "prompt_number": 110
    },
    {
     "cell_type": "code",
     "collapsed": false,
     "input": [
      "data['e'][0]\n",
      "\n"
     ],
     "language": "python",
     "metadata": {},
     "outputs": [
      {
       "metadata": {},
       "output_type": "pyout",
       "prompt_number": 169,
       "text": [
        "array([ 10.96892139])"
       ]
      }
     ],
     "prompt_number": 169
    },
    {
     "cell_type": "code",
     "collapsed": false,
     "input": [
      "probResponse = {}\n",
      "probResponse['e'] = np.zeros([len(data['e']),1])\n",
      "probResponse['c'] = np.zeros([len(data['c']),1])\n",
      "normProb = {}\n",
      "normProb['e'] = np.zeros([len(data['e']),1])\n",
      "normProb['c'] = np.zeros([len(data['c']),1])\n",
      "import itertools\n",
      "for cohort in ['e','c']:\n",
      "    for nFish in range(len(data[cohort])):\n",
      "        probResponse[cohort][nFish] = sum(data[cohort][nFish]['bStartle'])/float(len(data[cohort][nFish]['bStartle']))\n",
      "        normProb[cohort][nFish] = (sum(data[cohort][nFish]['bStartle'])/float(len(data[cohort][nFish]['bStartle'])))/data[cohort][nFish]['probability']\n",
      "\n",
      "for pr,position in itertools.izip([probResponse, normProb],[0,1]): \n",
      "    subplot(1,2,position+1)\n",
      "    plot(0,pr['c'].T + random.normal(scale = .01, size=pr['c'].T.shape),'.k')\n",
      "    plot(1,pr['e'].T + random.normal(scale = .01, size=pr['e'].T.shape),'.r')\n",
      "    axhline(mean(pr['c']),.2,.3, lw=3)\n",
      "    axhline(mean(pr['e']),.7,.8, lw=3)\n",
      "    xlim((-.5,1.5))\n",
      "    \n",
      "import scipy.stats as stats\n",
      "[h,p] = stats.ttest_ind(probResponse['e'],probResponse['c'])\n",
      "print 'p =', p\n",
      "[h,p] = stats.mannwhitneyu(probResponse['e'],probResponse['c'])\n",
      "print 'p=', p\n",
      "[h,p] = stats.ttest_ind(normProb['e'],normProb['c'])\n",
      "print 'p =', p\n",
      "[h,p] = stats.mannwhitneyu(normProb['e'],normProb['c'])\n",
      "print 'p=', p\n",
      "\n"
     ],
     "language": "python",
     "metadata": {},
     "outputs": [
      {
       "output_type": "stream",
       "stream": "stdout",
       "text": [
        "p = [ 0.13884686]\n",
        "p= 0.0661093793093\n",
        "p = [ 0.03634415]\n",
        "p= 0.0276106563064\n"
       ]
      }
     ],
     "prompt_number": 181
    },
    {
     "cell_type": "code",
     "collapsed": false,
     "input": [
      "startleRespByTrial = {}\n",
      "startleRespByTrial['e'] = np.zeros([1,10])\n",
      "startleRespByTrial['c'] = np.zeros([1,10])\n",
      "for cohort,color in itertools.izip(['e', 'c'],['r', 'k']):\n",
      "    for nFish in range(len(data[cohort])):\n",
      "        startleRespByTrial[cohort]+=(data[cohort][nFish]['bStartle'])\n",
      "    startleRespByTrial[cohort] /= len(data[cohort])\n",
      "    \n",
      "subplot(1,1,1)\n",
      "cla()\n",
      "hold(True)\n",
      "plot(range(10), startleRespByTrial['c'].T,'k')\n",
      "plot(range(10), startleRespByTrial['e'].T,'r')\n",
      "#ylim(0,1)\n",
      "print mean(startleRespByTrial['c'])\n",
      "print mean(startleRespByTrial['e'])\n"
     ],
     "language": "python",
     "metadata": {},
     "outputs": [
      {
       "output_type": "stream",
       "stream": "stdout",
       "text": [
        "0.385714285714\n",
        "0.38\n"
       ]
      }
     ],
     "prompt_number": 107
    },
    {
     "cell_type": "code",
     "collapsed": false,
     "input": [
      "import itertools\n",
      "for cohort,color in itertools.izip(['e', 'c'],['r', 'k']):\n",
      "    for nFish in range(len(data[cohort])):\n",
      "        subplot(1,4,1)\n",
      "        hold(True)\n",
      "        plot(data[cohort][nFish]['fStartVel'], data[cohort][nFish]['fEndVel'],'o'+color)\n",
      "        \n",
      "        #subplot(1,4,2)\n",
      "        #hold(True)\n",
      "        #plot(data[cohort][nFish]['fEndVel'], data[cohort][nFish]['vAvgMoveRate'],'o'+color)\n",
      "        \n",
      "        #subplot(1,4,3)\n",
      "        #hold(True)\n",
      "        #plot(data[cohort][nFish]['fEndVel']/data[cohort][nFish]['fStartVel'], data[cohort][nFish]['vAvgMoveRate'],'o'+color)\n",
      "        \n",
      "        #subplot(1,4,4)\n",
      "        #hold(True)\n",
      "        #plot(data[cohort][nFish]['fEndVel'] - data[cohort][nFish]['fStartVel'], data[cohort][nFish]['vAvgMoveRate'],'o'+color)\n",
      "print 'plotted'\n"
     ],
     "language": "python",
     "metadata": {},
     "outputs": [
      {
       "output_type": "stream",
       "stream": "stdout",
       "text": [
        "plotted\n"
       ]
      },
      {
       "metadata": {},
       "output_type": "display_data",
       "png": "[encoded data removed]",
       "text": [
        "<matplotlib.figure.Figure at 0x161cf7d0>"
       ]
      }
     ],
     "prompt_number": 42
    },
    {
     "cell_type": "markdown",
     "metadata": {},
     "source": [
      "The following cell computes significance statistics."
     ]
    },
    {
     "cell_type": "code",
     "collapsed": false,
     "input": [
      "from scipy.stats import linregress\n",
      "from scipy.stats import ttest_ind\n",
      "from scipy.stats import mannwhitneyu\n",
      "vrMR = np.hstack([[d['vAvgMoveRate'] for d in data['e'][:]],[d['vAvgMoveRate'] for d in data['c'][:]]])\n",
      "vrRatio = np.hstack([[d['fEndVel']/d['fStartVel'] for d in data['e'][:]],[d['fEndVel']/d['fStartVel']  for d in data['c'][:]]])\n",
      "plot(vrRatio, vrMR,'o')\n",
      "[m,b,r,p,e] = linregress(vrRatio, vrMR)\n",
      "print 'm,b,r,p,e', m,b,r,p,e\n",
      "\n",
      "exp = [d['vAvgMoveRate'] for d in filter(lambda x: x['fnum']>0 , data['e'][:])]\n",
      "cnt = [d['vAvgMoveRate'] for d in filter(lambda x: x['fnum']>0 , data['c'][:])]\n",
      "print 'mean c', mean(cnt)\n",
      "print 'mean e', mean(exp)\n",
      "[h,p] = ttest_ind( exp, cnt )\n",
      "print 'p =', p\n",
      "[h,p] = mannwhitneyu( exp, cnt )\n",
      "print 'p =', p\n"
     ],
     "language": "python",
     "metadata": {},
     "outputs": [
      {
       "output_type": "stream",
       "stream": "stdout",
       "text": [
        "m,b,r,p,e -0.0403829851283 0.169819553815 -0.0623793818914 0.738858031359 0.119980797466\n",
        "mean c 0.080625\n",
        "mean e 0.227111111111\n",
        "p = 0.128645702777\n",
        "p = 0.0567226957895\n"
       ]
      },
      {
       "metadata": {},
       "output_type": "display_data",
       "png": "[encoded data removed]",
       "text": [
        "<matplotlib.figure.Figure at 0x30548090>"
       ]
      }
     ],
     "prompt_number": 43
    }
   ],
   "metadata": {}
  }
 ]
}