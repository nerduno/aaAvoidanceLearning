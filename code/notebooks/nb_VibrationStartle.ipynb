{
 "metadata": {
  "name": ""
 },
 "nbformat": 3,
 "nbformat_minor": 0,
 "worksheets": [
  {
   "cells": [
    {
     "cell_type": "markdown",
     "metadata": {},
     "source": [
      "The following cell specifies the relevant data to be analyzed.  For each dataset, you need to supply the date, the fish number, and a threshold specifing is the number of pixel that must be different to indicate a movement in the head-fixed data (depending on lighting, fish size, etc.).  data['e'] should contain shocked fish, and 'c' control fish.\n",
      "\n",
      "Be sure to re-execute the cell using the play button if you modify the cell."
     ]
    },
    {
     "cell_type": "code",
     "collapsed": false,
     "input": [
      "%matplotlib tk"
     ],
     "language": "python",
     "metadata": {},
     "outputs": [],
     "prompt_number": 27
    },
    {
     "cell_type": "code",
     "collapsed": false,
     "input": [
      "#DEFINE DATA SET\n",
      "data = {}\n",
      "\n",
      "data['e'] =         [{'date':'20140325','fnum':1166, 'manThres':50},\n",
      "                     {'date':'20140326','fnum':1172, 'manThres':50},\n",
      "                     {'date':'20140326','fnum':1174, 'manThres':50},\n",
      "                     #{'date':'20140326','fnum':1176, 'manThres':75}, #speakers floating during some of exp\n",
      "                     #{'date':'20140326','fnum':1178, 'manThres':75}, #too sparse\n",
      "                     {'date':'20140326','fnum':1188, 'manThres':30},\n",
      "                     #{'date':'20140326','fnum':1190, 'manThres':40}, #no movements\n",
      "                     {'date':'20140326','fnum':1192, 'manThres':50},\n",
      "                     ]\n",
      "\n",
      "data['c'] =         [{'date':'20140325','fnum':1168, 'manThres':40},\n",
      "                     {'date':'20140325','fnum':1170, 'manThres':50},\n",
      "                     {'date':'20140326','fnum':1180, 'manThres':50},\n",
      "                     {'date':'20140326','fnum':1182, 'manThres':50},\n",
      "                     {'date':'20140326','fnum':1184, 'manThres':50},\n",
      "                     #{'date':'20140326','fnum':1186, 'manThres':75}, #somewthing weird with tail\n",
      "                     ]\n",
      "print 'Dataset chosen'"
     ],
     "language": "python",
     "metadata": {},
     "outputs": [
      {
       "output_type": "stream",
       "stream": "stdout",
       "text": [
        "Dataset chosen\n"
       ]
      }
     ],
     "prompt_number": 2
    },
    {
     "cell_type": "markdown",
     "metadata": {},
     "source": [
      "The following cell loads  the data specified in the first cell (both free swimming and head fixed data)."
     ]
    },
    {
     "cell_type": "code",
     "collapsed": false,
     "input": [
      "#LOAD BOTH THE FREE-SWIMMING AND HEAD-FIXED DATA.\n",
      "%cd ~/projects/aaAvoidanceLearning/\n",
      "import ArenaBehaviorAnalysis as aba\n",
      "from scipy.io.matlab import loadmat\n",
      "prefix = '/home/vburns';\n",
      "\n",
      "for cohort in ['e','c']:\n",
      "    for nFish in range(len(data[cohort])):\n",
      "        date = data[cohort][nFish]['date']\n",
      "        fnum = data[cohort][nFish]['fnum']\n",
      "        data[cohort][nFish]['moviename'] = '%s/Dropbox/Pisces Data/FishVR/%s/%d_motion.avi'%(prefix, date, fnum)\n",
      "        data[cohort][nFish]['vr'] = loadmat('%s/Dropbox/Pisces Data/FishVR/%s/%d.mat'%(prefix, date, fnum))\n",
      "        data[cohort][nFish]['free'] = aba.loadDataSmart(date[:4]+'-'+date[4:6]+'-'+date[6:], fnum, bAuto=True)[0]\n",
      "\n",
      "print 'Dataset loaded'"
     ],
     "language": "python",
     "metadata": {},
     "outputs": [
      {
       "output_type": "stream",
       "stream": "stdout",
       "text": [
        "/home/vburns/projects/aaAvoidanceLearning\n",
        "\n",
        "Search string: /home/vburns/Dropbox/ConchisData/2014-03-25/f01166/f01166*.json"
       ]
      },
      {
       "output_type": "stream",
       "stream": "stdout",
       "text": [
        "\n",
        "Ignoring arena_mm.  Using tankSize_mm field."
       ]
      },
      {
       "output_type": "stream",
       "stream": "stdout",
       "text": [
        "\n",
        "\n",
        "Search string: /home/vburns/Dropbox/ConchisData/2014-03-26/f01172/f01172*.json"
       ]
      },
      {
       "output_type": "stream",
       "stream": "stdout",
       "text": [
        "\n",
        "Ignoring arena_mm.  Using tankSize_mm field."
       ]
      },
      {
       "output_type": "stream",
       "stream": "stdout",
       "text": [
        "\n",
        "\n",
        "Search string: /home/vburns/Dropbox/ConchisData/2014-03-26/f01174/f01174*.json"
       ]
      },
      {
       "output_type": "stream",
       "stream": "stdout",
       "text": [
        "\n",
        "Ignoring arena_mm.  Using tankSize_mm field."
       ]
      },
      {
       "output_type": "stream",
       "stream": "stdout",
       "text": [
        "\n",
        "\n",
        "Search string: /home/vburns/Dropbox/ConchisData/2014-03-26/f01188/f01188*.json"
       ]
      },
      {
       "output_type": "stream",
       "stream": "stdout",
       "text": [
        "\n",
        "Ignoring arena_mm.  Using tankSize_mm field."
       ]
      },
      {
       "output_type": "stream",
       "stream": "stdout",
       "text": [
        "\n",
        "\n",
        "Search string: /home/vburns/Dropbox/ConchisData/2014-03-26/f01192/f01192*.json"
       ]
      },
      {
       "output_type": "stream",
       "stream": "stdout",
       "text": [
        "\n",
        "Ignoring arena_mm.  Using tankSize_mm field."
       ]
      },
      {
       "output_type": "stream",
       "stream": "stdout",
       "text": [
        "\n",
        "\n",
        "Search string: /home/vburns/Dropbox/ConchisData/2014-03-25/f01168/f01168*.json"
       ]
      },
      {
       "output_type": "stream",
       "stream": "stdout",
       "text": [
        "\n",
        "Ignoring arena_mm.  Using tankSize_mm field."
       ]
      },
      {
       "output_type": "stream",
       "stream": "stdout",
       "text": [
        "\n",
        "\n",
        "Search string: /home/vburns/Dropbox/ConchisData/2014-03-25/f01170/f01170*.json"
       ]
      },
      {
       "output_type": "stream",
       "stream": "stdout",
       "text": [
        "\n",
        "Ignoring arena_mm.  Using tankSize_mm field."
       ]
      },
      {
       "output_type": "stream",
       "stream": "stdout",
       "text": [
        "\n",
        "\n",
        "Search string: /home/vburns/Dropbox/ConchisData/2014-03-26/f01180/f01180*.json"
       ]
      },
      {
       "output_type": "stream",
       "stream": "stdout",
       "text": [
        "\n",
        "Ignoring arena_mm.  Using tankSize_mm field."
       ]
      },
      {
       "output_type": "stream",
       "stream": "stdout",
       "text": [
        "\n",
        "\n",
        "Search string: /home/vburns/Dropbox/ConchisData/2014-03-26/f01182/f01182*.json"
       ]
      },
      {
       "output_type": "stream",
       "stream": "stdout",
       "text": [
        "\n",
        "Ignoring arena_mm.  Using tankSize_mm field."
       ]
      },
      {
       "output_type": "stream",
       "stream": "stdout",
       "text": [
        "\n",
        "\n",
        "Search string: /home/vburns/Dropbox/ConchisData/2014-03-26/f01184/f01184*.json"
       ]
      },
      {
       "output_type": "stream",
       "stream": "stdout",
       "text": [
        "\n",
        "Ignoring arena_mm.  Using tankSize_mm field."
       ]
      },
      {
       "output_type": "stream",
       "stream": "stdout",
       "text": [
        "\n",
        "Dataset loaded"
       ]
      },
      {
       "output_type": "stream",
       "stream": "stdout",
       "text": [
        "\n"
       ]
      }
     ],
     "prompt_number": 3
    },
    {
     "cell_type": "markdown",
     "metadata": {},
     "source": [
      "The following cell extracts relevant statistics from these data sets.  From the free-swimming data, it extracts the starting and ending velocity.  From the head-fixed data, it extracts the average movement rate.\n",
      "\n",
      "TODO: This code needs to be modified to extract the startle responses.  This could be array of 10 T/F or magnitude values for each fish.  Or perhaps just a single fraction for each fish as a first pass."
     ]
    },
    {
     "cell_type": "code",
     "collapsed": false,
     "input": [
      "#ASSESS THRESHOLD FOR MOVEMENTS\n",
      "cohort = 'c'\n",
      "nFish = 5\n",
      "d = data[cohort][nFish]['vr']\n",
      "t = [(tvec[3]*60*60 + tvec[4]*60 + tvec[5]) for tvec in data[cohort][nFish]['vr']['gFrameTime']]\n",
      "t0 = t[0]\n",
      "t = t - t0\n",
      "plot(t,d['gPixDiff'])\n",
      "title(data[cohort][nFish]['fnum'])\n",
      "\n",
      "#from IPython.display import HTML\n",
      "#video = open(data[cohort][nFish]['moviename'], \"rb\").read()\n",
      "#video_encoded = video.encode(\"base64\")\n",
      "#video_tag = '<video controls alt=\"test\" src=\"data:video/x-m4v;base64,{0}\">'.format(video_encoded)\n",
      "#HTML(video_tag)"
     ],
     "language": "python",
     "metadata": {},
     "outputs": [
      {
       "ename": "IndexError",
       "evalue": "list index out of range",
       "output_type": "pyerr",
       "traceback": [
        "\u001b[1;31m---------------------------------------------------------------------------\u001b[0m\n\u001b[1;31mIndexError\u001b[0m                                Traceback (most recent call last)",
        "\u001b[1;32m<ipython-input-18-8d7a46c9549f>\u001b[0m in \u001b[0;36m<module>\u001b[1;34m()\u001b[0m\n\u001b[0;32m      2\u001b[0m \u001b[0mcohort\u001b[0m \u001b[1;33m=\u001b[0m \u001b[1;34m'c'\u001b[0m\u001b[1;33m\u001b[0m\u001b[0m\n\u001b[0;32m      3\u001b[0m \u001b[0mnFish\u001b[0m \u001b[1;33m=\u001b[0m \u001b[1;36m5\u001b[0m\u001b[1;33m\u001b[0m\u001b[0m\n\u001b[1;32m----> 4\u001b[1;33m \u001b[0md\u001b[0m \u001b[1;33m=\u001b[0m \u001b[0mdata\u001b[0m\u001b[1;33m[\u001b[0m\u001b[0mcohort\u001b[0m\u001b[1;33m]\u001b[0m\u001b[1;33m[\u001b[0m\u001b[0mnFish\u001b[0m\u001b[1;33m]\u001b[0m\u001b[1;33m[\u001b[0m\u001b[1;34m'vr'\u001b[0m\u001b[1;33m]\u001b[0m\u001b[1;33m\u001b[0m\u001b[0m\n\u001b[0m\u001b[0;32m      5\u001b[0m \u001b[0mt\u001b[0m \u001b[1;33m=\u001b[0m \u001b[1;33m[\u001b[0m\u001b[1;33m(\u001b[0m\u001b[0mtvec\u001b[0m\u001b[1;33m[\u001b[0m\u001b[1;36m3\u001b[0m\u001b[1;33m]\u001b[0m\u001b[1;33m*\u001b[0m\u001b[1;36m60\u001b[0m\u001b[1;33m*\u001b[0m\u001b[1;36m60\u001b[0m \u001b[1;33m+\u001b[0m \u001b[0mtvec\u001b[0m\u001b[1;33m[\u001b[0m\u001b[1;36m4\u001b[0m\u001b[1;33m]\u001b[0m\u001b[1;33m*\u001b[0m\u001b[1;36m60\u001b[0m \u001b[1;33m+\u001b[0m \u001b[0mtvec\u001b[0m\u001b[1;33m[\u001b[0m\u001b[1;36m5\u001b[0m\u001b[1;33m]\u001b[0m\u001b[1;33m)\u001b[0m \u001b[1;32mfor\u001b[0m \u001b[0mtvec\u001b[0m \u001b[1;32min\u001b[0m \u001b[0mdata\u001b[0m\u001b[1;33m[\u001b[0m\u001b[0mcohort\u001b[0m\u001b[1;33m]\u001b[0m\u001b[1;33m[\u001b[0m\u001b[0mnFish\u001b[0m\u001b[1;33m]\u001b[0m\u001b[1;33m[\u001b[0m\u001b[1;34m'vr'\u001b[0m\u001b[1;33m]\u001b[0m\u001b[1;33m[\u001b[0m\u001b[1;34m'gFrameTime'\u001b[0m\u001b[1;33m]\u001b[0m\u001b[1;33m]\u001b[0m\u001b[1;33m\u001b[0m\u001b[0m\n\u001b[0;32m      6\u001b[0m \u001b[0mt0\u001b[0m \u001b[1;33m=\u001b[0m \u001b[0mt\u001b[0m\u001b[1;33m[\u001b[0m\u001b[1;36m0\u001b[0m\u001b[1;33m]\u001b[0m\u001b[1;33m\u001b[0m\u001b[0m\n",
        "\u001b[1;31mIndexError\u001b[0m: list index out of range"
       ]
      }
     ],
     "prompt_number": 18
    },
    {
     "cell_type": "code",
     "collapsed": false,
     "input": [
      "#EXTRACT STATISTICS FROM DATASET\n",
      "#   START AND END VELOCITY FOR FREE SWIMMING DATA\n",
      "#   MOVEMENT RATE FOR HEADFIXED DATA\n",
      "#   TODO: STARTLE RESPONSE...\n",
      "import numpy as np\n",
      "for cohort in ['e','c']:\n",
      "    for nFish in range(len(data[cohort])):\n",
      "        #Free swimming analysis\n",
      "        [vel,vt] = aba.getVelRaw(data[cohort][nFish]['free'], tRange=[100,900], smoothWinLen=15)\n",
      "        data[cohort][nFish]['fStartVel'] = np.median(vel)\n",
      "        [vel,vt] = aba.getVelRaw(data[cohort][nFish]['free'], tRange=[-300,-0], smoothWinLen=15)\n",
      "        data[cohort][nFish]['fEndVel'] = np.median(vel)\n",
      "       \n",
      "        #VR analysis\n",
      "        d = data[cohort][nFish]['vr']\n",
      "        t = [(tvec[3]*60*60 + tvec[4]*60 + tvec[5]) for tvec in data[cohort][nFish]['vr']['gFrameTime']]\n",
      "        t0 = t[0];\n",
      "        t = t - t0;\n",
      "        thres = data[cohort][nFish]['manThres']\n",
      "        [sMoveNdx, eMoveNdx] = aba.detectThresholdCrossings(d['gPixDiff'], thres, True);\n",
      "        isi = np.diff(t[sMoveNdx])\n",
      "        bISI = isi>.3 #swim events must be separated by at least 0.3s.\n",
      "        bsISI = np.insert(bISI,0,True)\n",
      "        beISI = np.append(bISI,False)\n",
      "        sMoveNdx = sMoveNdx[bsISI]\n",
      "        eMoveNdx = eMoveNdx[beISI]\n",
      "        bins = np.arange(0,t[-1],60)\n",
      "        data[cohort][nFish]['moveRate'], data[cohort][nFish]['bins'] = np.histogram(t[sMoveNdx], bins)\n",
      "        data[cohort][nFish]['vAvgMoveRate'] = sum((t[sMoveNdx]>0) & (t[sMoveNdx]<300))/300.0\n",
      "    \n",
      "        #get shock times\n",
      "        bStartle = []\n",
      "        VibInfo = d['stimuli']['vibStartleFrameNdx'][0][0][0]\n",
      "        print VibInfo\n",
      "        for nStim in range(10,0,-1):\n",
      "            startT = t[VibInfo[-nStim]]\n",
      "            bStartle.append(sum((t[sMoveNdx]>startT) & (t[sMoveNdx]<startT+1)) > 0)\n",
      "        data[cohort][nFish]['bStartle'] = np.array(bStartle)\n",
      "print 'Done'\n",
      "\n"
     ],
     "language": "python",
     "metadata": {},
     "outputs": [
      {
       "output_type": "stream",
       "stream": "stdout",
       "text": [
        "[54579 58176 61778 65376 68977 72575 76175 79776 83376 86977 54580 58179\n",
        " 61782 65379 68979 72579 76180 79779 83380 86979]\n",
        "[54578 58177 61778 65375 68977 72576 76176 79774 83374 86974]"
       ]
      },
      {
       "output_type": "stream",
       "stream": "stdout",
       "text": [
        "\n",
        "[54578 58177 61778 65375 68977 72576 76176 79774 83374 86974 54578 58182\n",
        " 61778 65381 68979 72578 76180 79778 83379 86976]"
       ]
      },
      {
       "output_type": "stream",
       "stream": "stdout",
       "text": [
        "\n",
        "[54578 58176 61777 65377 68976 72575 76175 79775 83375 86975 54581 58177\n",
        " 61780 65381 68977 72580 76177 79779 83379 86978 54580 58179 61779 65379\n",
        " 68979 72579 76179 79776 83379 86976 54579 58181 61782 65380 68980 72579\n",
        " 76179 79777 83379 86979]"
       ]
      },
      {
       "output_type": "stream",
       "stream": "stdout",
       "text": [
        "\n",
        "[54578 58176 61777 65377 68976 72575 76175 79775 83375 86975 54581 58177\n",
        " 61780 65381 68977 72580 76177 79779 83379 86978 54580 58179 61779 65379\n",
        " 68979 72579 76179 79776 83379 86976 54579 58181 61782 65380 68980 72579\n",
        " 76179 79777 83379 86979 54582 58180 61778 65381 68980 72578 76179 79778\n",
        " 83378 86979 54578 58179 61780 65377 68979 72579 76178 79777 83378 86976]"
       ]
      },
      {
       "output_type": "stream",
       "stream": "stdout",
       "text": [
        "\n",
        "[54579 58176 61778 65376 68977 72575 76175 79776 83376 86977 54580 58179\n",
        " 61782 65379 68979 72579 76180 79779 83380 86979 54551 58151 61749 65351\n",
        " 68948 72550 76150 79750 83349 86946]"
       ]
      },
      {
       "output_type": "stream",
       "stream": "stdout",
       "text": [
        "\n",
        "[54579 58176 61778 65376 68977 72575 76175 79776 83376 86977 54580 58179\n",
        " 61782 65379 68979 72579 76180 79779 83380 86979 54551 58151 61749 65351\n",
        " 68948 72550 76150 79750 83349 86946 54549 58152 61752 65350 68951 72550\n",
        " 76150 79750 83349 86951]"
       ]
      },
      {
       "output_type": "stream",
       "stream": "stdout",
       "text": [
        "\n",
        "[54578 58176 61777 65377 68976 72575 76175 79775 83375 86975]"
       ]
      },
      {
       "output_type": "stream",
       "stream": "stdout",
       "text": [
        "\n",
        "[54578 58176 61777 65377 68976 72575 76175 79775 83375 86975 54581 58177\n",
        " 61780 65381 68977 72580 76177 79779 83379 86978]"
       ]
      },
      {
       "output_type": "stream",
       "stream": "stdout",
       "text": [
        "\n",
        "[54578 58176 61777 65377 68976 72575 76175 79775 83375 86975 54581 58177\n",
        " 61780 65381 68977 72580 76177 79779 83379 86978 54580 58179 61779 65379\n",
        " 68979 72579 76179 79776 83379 86976]"
       ]
      },
      {
       "output_type": "stream",
       "stream": "stdout",
       "text": [
        "\n",
        "Done\n"
       ]
      }
     ],
     "prompt_number": 16
    },
    {
     "cell_type": "code",
     "collapsed": false,
     "input": [
      "\n",
      "VibInfo = d['stimuli']['vibStartleFrameNdx'][0][0][0]\n",
      "\n",
      "plot(data['e'][0]['vr']['gPixDiff'])\n",
      "for i in range(len(VibInfo)):\n",
      "    axvline(np.array(VibInfo[i]), color='r')\n",
      "    hold(True)"
     ],
     "language": "python",
     "metadata": {},
     "outputs": [],
     "prompt_number": 37
    },
    {
     "cell_type": "markdown",
     "metadata": {},
     "source": [
      "The following cell plots the data.  \n",
      "\n",
      "TODO: This cell needs to be modified to plot startle response statistics.  There are lots of possible ways to plot the data."
     ]
    },
    {
     "cell_type": "code",
     "collapsed": false,
     "input": [
      "import itertools\n",
      "subplot(1,1,1)\n",
      "cla()\n",
      "hold(True)\n",
      "for cohort,color in itertools.izip(['e','c'],['r','k']):\n",
      "    for nFish in range(len(data[cohort])):\n",
      "        plot([0,1],[data[cohort][nFish]['fStartVel'], data[cohort][nFish]['fEndVel']], color)"
     ],
     "language": "python",
     "metadata": {},
     "outputs": [
      {
       "metadata": {},
       "output_type": "display_data",
       "png": "[encoded data removed]",
       "text": [
        "<matplotlib.figure.Figure at 0x11685790>"
       ]
      }
     ],
     "prompt_number": 7
    },
    {
     "cell_type": "code",
     "collapsed": false,
     "input": [
      "subplot(1,1,1)\n",
      "cla()\n",
      "hold(True)\n",
      "expMean = []\n",
      "cntMean = []\n",
      "import itertools\n",
      "for nFish in range(len(data['e'])):\n",
      "    expMean.append(data['e'][nFish]['vAvgMoveRate'])\n",
      "    plot(1, data['e'][nFish]['vAvgMoveRate'],'or')\n",
      "axhline(mean(expMean), .7, .8, 'r', lw=3)\n",
      "for nFish in range(len(data['c'])):\n",
      "    cntMean.append(data['c'][nFish]['vAvgMoveRate'])\n",
      "    plot(0, data['c'][nFish]['vAvgMoveRate'],'ok')\n",
      "axhline(mean(cntMean),.2,.3,'k', lw=3)\n",
      "xlim([-.5,1.5])\n",
      "\n",
      "import scipy.stats as stats\n",
      "[h,p] = stats.ttest_ind(expMean,cntMean)\n",
      "print 'p =', p\n",
      "[h,p] = stats.mannwhitneyu(expMean, cntMean)\n",
      "print 'p=', p"
     ],
     "language": "python",
     "metadata": {},
     "outputs": [
      {
       "output_type": "stream",
       "stream": "stdout",
       "text": [
        "p = 0.82338900632\n",
        "p= 0.338051657012\n"
       ]
      },
      {
       "metadata": {},
       "output_type": "display_data",
       "png": "[encoded data removed]",
       "text": [
        "<matplotlib.figure.Figure at 0x11865590>"
       ]
      }
     ],
     "prompt_number": 8
    },
    {
     "cell_type": "code",
     "collapsed": false,
     "input": [
      "startleRespByTrial = {}\n",
      "startleRespByTrial['e'] = np.zeros([1,10])\n",
      "startleRespByTrial['c'] = np.zeros([1,10])\n",
      "for cohort,color in itertools.izip(['e', 'c'],['r', 'k']):\n",
      "    for nFish in range(len(data[cohort])):\n",
      "        startleRespByTrial[cohort]+=data[cohort][nFish]['bStartle']     \n",
      "    startleRespByTrial[cohort] /= len(data[cohort])\n",
      "\n",
      "subplot(1,1,1)\n",
      "cla()\n",
      "hold(True)\n",
      "plot(range(10), startleRespByTrial['c'].T,'k')\n",
      "plot(range(10), startleRespByTrial['e'].T,'r')\n",
      "ylim(0,1)\n",
      "print mean(startleRespByTrial['c'])\n",
      "print mean(startleRespByTrial['e'])\n"
     ],
     "language": "python",
     "metadata": {},
     "outputs": [
      {
       "output_type": "stream",
       "stream": "stdout",
       "text": [
        "0.9\n",
        "0.82\n"
       ]
      }
     ],
     "prompt_number": 38
    },
    {
     "cell_type": "code",
     "collapsed": false,
     "input": [
      "import itertools\n",
      "for cohort,color in itertools.izip(['e', 'c'],['r', 'k']):\n",
      "    for nFish in range(len(data[cohort])):\n",
      "        subplot(1,4,1)\n",
      "        hold(True)\n",
      "        plot(data[cohort][nFish]['fStartVel'], data[cohort][nFish]['fEndVel'],'o'+color)\n",
      "        \n",
      "        #subplot(1,4,2)\n",
      "        #hold(True)\n",
      "        #plot(data[cohort][nFish]['fEndVel'], data[cohort][nFish]['vAvgMoveRate'],'o'+color)\n",
      "        \n",
      "        #subplot(1,4,3)\n",
      "        #hold(True)\n",
      "        #plot(data[cohort][nFish]['fEndVel']/data[cohort][nFish]['fStartVel'], data[cohort][nFish]['vAvgMoveRate'],'o'+color)\n",
      "        \n",
      "        #subplot(1,4,4)\n",
      "        #hold(True)\n",
      "        #plot(data[cohort][nFish]['fEndVel'] - data[cohort][nFish]['fStartVel'], data[cohort][nFish]['vAvgMoveRate'],'o'+color)\n",
      "print 'plotted'\n"
     ],
     "language": "python",
     "metadata": {},
     "outputs": [
      {
       "output_type": "stream",
       "stream": "stdout",
       "text": [
        "plotted\n"
       ]
      },
      {
       "metadata": {},
       "output_type": "display_data",
       "png": "[encoded data removed]",
       "text": [
        "<matplotlib.figure.Figure at 0x13a83690>"
       ]
      }
     ],
     "prompt_number": 70
    },
    {
     "cell_type": "markdown",
     "metadata": {},
     "source": [
      "The following cell computes significance statistics."
     ]
    },
    {
     "cell_type": "code",
     "collapsed": false,
     "input": [
      "from scipy.stats import linregress\n",
      "from scipy.stats import ttest_ind\n",
      "from scipy.stats import mannwhitneyu\n",
      "vrMR = np.hstack([[d['vAvgMoveRate'] for d in data['e'][:]],[d['vAvgMoveRate'] for d in data['c'][:]]])\n",
      "vrRatio = np.hstack([[d['fEndVel']/d['fStartVel'] for d in data['e'][:]],[d['fEndVel']/d['fStartVel']  for d in data['c'][:]]])\n",
      "plot(vrRatio, vrMR,'o')\n",
      "[m,b,r,p,e] = linregress(vrRatio, vrMR)\n",
      "print 'm,b,r,p,e', m,b,r,p,e\n",
      "\n",
      "exp = [d['vAvgMoveRate'] for d in filter(lambda x: x['fnum']>0 , data['e'][:])]\n",
      "cnt = [d['vAvgMoveRate'] for d in filter(lambda x: x['fnum']>0 , data['c'][:])]\n",
      "print 'mean c', mean(cnt)\n",
      "print 'mean e', mean(exp)\n",
      "[h,p] = ttest_ind( exp, cnt )\n",
      "print 'p =', p\n",
      "[h,p] = mannwhitneyu( exp, cnt )\n",
      "print 'p =', p\n"
     ],
     "language": "python",
     "metadata": {},
     "outputs": [
      {
       "output_type": "stream",
       "stream": "stdout",
       "text": [
        "m,b,r,p,e -0.0222410792003 0.796130854088 -0.102297253846 0.778551837479 0.0764649708705\n",
        "mean c 0.733333333333\n",
        "mean e 0.805333333333\n",
        "p = 0.82338900632\n",
        "p = 0.338051657012\n"
       ]
      },
      {
       "metadata": {},
       "output_type": "display_data",
       "png": "[encoded data removed]",
       "text": [
        "<matplotlib.figure.Figure at 0x1b891990>"
       ]
      }
     ],
     "prompt_number": 71
    }
   ],
   "metadata": {}
  }
 ]
}